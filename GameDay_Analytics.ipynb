{
  "nbformat": 4,
  "nbformat_minor": 0,
  "metadata": {
    "colab": {
      "provenance": []
    },
    "kernelspec": {
      "name": "python3",
      "display_name": "Python 3"
    },
    "language_info": {
      "name": "python"
    }
  },
  "cells": [
    {
      "cell_type": "code",
      "source": [
        "import pandas as pd\n",
        "import matplotlib as mpl\n",
        "import sklearn as sl\n",
        "import seaborn as sns\n",
        "import matplotlib.pyplot as plt\n",
        "import numpy as np\n",
        "import pytz\n",
        "import re\n",
        "from collections import Counter"
      ],
      "metadata": {
        "id": "isYJ0_RG3Epq"
      },
      "execution_count": 1,
      "outputs": []
    },
    {
      "cell_type": "code",
      "source": [
        "path = \"/content/drive/MyDrive/Colab Notebooks/final_dataset_2025_for_release.csv\"\n",
        "df = pd.read_csv(path)\n",
        "print(df)"
      ],
      "metadata": {
        "colab": {
          "base_uri": "https://localhost:8080/"
        },
        "id": "N4EiNhpG2Cc9",
        "outputId": "ffde4e91-46e1-4f1e-a97b-7b7fb5018cd0"
      },
      "execution_count": 2,
      "outputs": [
        {
          "output_type": "stream",
          "name": "stderr",
          "text": [
            "<ipython-input-2-bded4bb061a2>:2: DtypeWarning: Columns (32,33,34,35) have mixed types. Specify dtype option on import or set low_memory=False.\n",
            "  df = pd.read_csv(path)\n"
          ]
        },
        {
          "output_type": "stream",
          "name": "stdout",
          "text": [
            "                      created_at  \\\n",
            "0       2025-02-10T03:16:57.000Z   \n",
            "1       2025-02-10T03:16:49.000Z   \n",
            "2       2025-02-10T03:16:48.000Z   \n",
            "3       2025-02-10T03:16:46.000Z   \n",
            "4       2025-02-10T03:16:46.000Z   \n",
            "...                          ...   \n",
            "123142  2025-02-10T02:37:52.000Z   \n",
            "123143  2025-02-10T02:37:47.000Z   \n",
            "123144  2025-02-10T02:37:47.000Z   \n",
            "123145  2025-02-10T02:37:34.000Z   \n",
            "123146  2025-02-10T02:37:19.000Z   \n",
            "\n",
            "                                                     text  \\\n",
            "0       RT @patriotslatam: Sólo hay uno como ÉL.\\n\\nAb...   \n",
            "1       RT @patriotslatam: Sólo hay uno como ÉL.\\n\\nAb...   \n",
            "2       THE ONLY GOAT. 🐐 @TomBrady\\n\\n#SuperBowl https...   \n",
            "3                                    I love you @TomBrady   \n",
            "4                                    I love you @TomBrady   \n",
            "...                                                   ...   \n",
            "123142  レッドブル期待のリンドブラッド F1スーパーライセンスの取得条件をクリア 【 F1-Gate...   \n",
            "123143  @broskisol @LucaNetz Great to hear about the n...   \n",
            "123144  📰 Pudgy Penguins Solana Token, Ethereum NFTs D...   \n",
            "123145  -“Max, como puedo ganar si mi rival me está po...   \n",
            "123146  RT @anninis: Por fin se quitó la camiseta de r...   \n",
            "\n",
            "            conversation_id reply_settings   edit_history_tweet_ids lang  \\\n",
            "0       1888789225308409951       everyone  ['1888789225308409951']   es   \n",
            "1       1888789188876894329       everyone  ['1888789188876894329']   es   \n",
            "2       1888789186284503124       everyone  ['1888789186284503124']   en   \n",
            "3       1888789179074793761       everyone  ['1888789179074793761']   en   \n",
            "4       1888789179074793761       everyone  ['1888789179074793761']   en   \n",
            "...                     ...            ...                      ...  ...   \n",
            "123142  1888779389158236338       everyone  ['1888779389158236338']   ja   \n",
            "123143  1888738596351279490       everyone  ['1888779365242360125']   en   \n",
            "123144  1888779365007126805       everyone  ['1888779365007126805']   en   \n",
            "123145  1888779313698185319       everyone  ['1888779313698185319']   es   \n",
            "123146  1888779248720081232       everyone  ['1888779248720081232']   es   \n",
            "\n",
            "                                        referenced_tweets  possibly_sensitive  \\\n",
            "0       [{'type': 'retweeted', 'id': '1888782268186890...               False   \n",
            "1       [{'type': 'retweeted', 'id': '1888782268186890...               False   \n",
            "2                                                     NaN               False   \n",
            "3                                                     NaN               False   \n",
            "4                                                     NaN               False   \n",
            "...                                                   ...                 ...   \n",
            "123142                                                NaN               False   \n",
            "123143  [{'type': 'replied_to', 'id': '188873859635127...               False   \n",
            "123144                                                NaN               False   \n",
            "123145                                                NaN               False   \n",
            "123146  [{'type': 'retweeted', 'id': '1888415328973255...               False   \n",
            "\n",
            "                         id            author_id  ...  \\\n",
            "0       1888789225308409951            206743570  ...   \n",
            "1       1888789188876894329            282285390  ...   \n",
            "2       1888789186284503124            246885450  ...   \n",
            "3       1888789179074793761           1921582838  ...   \n",
            "4       1888789179074793761           1921582838  ...   \n",
            "...                     ...                  ...  ...   \n",
            "123142  1888779389158236338            125342049  ...   \n",
            "123143  1888779365242360125             74298739  ...   \n",
            "123144  1888779365007126805            222757539  ...   \n",
            "123145  1888779313698185319             28954022  ...   \n",
            "123146  1888779248720081232  1507874980536758272  ...   \n",
            "\n",
            "                                 entities.cashtags               location  \\\n",
            "0                                              NaN                    NaN   \n",
            "1                                              NaN          BIEBERLANDIA♡   \n",
            "2                                              NaN  Monterrey, Nuevo León   \n",
            "3                                              NaN            Detroit, MI   \n",
            "4                                              NaN            Detroit, MI   \n",
            "...                                            ...                    ...   \n",
            "123142                                         NaN                   どっかｗ   \n",
            "123143  [{'start': 81, 'end': 87, 'tag': 'PENGU'}]                 Solana   \n",
            "123144                                         NaN                    NaN   \n",
            "123145                                         NaN                    NaN   \n",
            "123146                                         NaN                    NaN   \n",
            "\n",
            "               username                  name    brand      geo.place_id  \\\n",
            "0            juanmelriv   || •)🇮🇩 Juan P Melo  Dunkin'               NaN   \n",
            "1          Camila110598                 Camm♡  Dunkin'               NaN   \n",
            "2              SevazCFM             Sebastián  Dunkin'  b19e24ce42ccd6aa   \n",
            "3              Vince_4L           Harvey Dent  Dunkin'               NaN   \n",
            "4              Vince_4L           Harvey Dent  Dunkin'               NaN   \n",
            "...                 ...                   ...      ...               ...   \n",
            "123142          ishi148  ma-sadai＠16a!池袋：酒クズｗ  RedBull               NaN   \n",
            "123143     0xiLBiscione             Bun Agent  RedBull               NaN   \n",
            "123144  wirelesrrugpull       Wireless Router  RedBull               NaN   \n",
            "123145       alfonsoReV                    Re  RedBull               NaN   \n",
            "123146     Ramf32951133                  Ramf  RedBull               NaN   \n",
            "\n",
            "        attachments.poll_ids  withheld.country_codes  geo.coordinates.type  \\\n",
            "0                        NaN                     NaN                   NaN   \n",
            "1                        NaN                     NaN                   NaN   \n",
            "2                        NaN                     NaN                   NaN   \n",
            "3                        NaN                     NaN                   NaN   \n",
            "4                        NaN                     NaN                   NaN   \n",
            "...                      ...                     ...                   ...   \n",
            "123142                   NaN                     NaN                   NaN   \n",
            "123143                   NaN                     NaN                   NaN   \n",
            "123144                   NaN                     NaN                   NaN   \n",
            "123145                   NaN                     NaN                   NaN   \n",
            "123146                   NaN                     NaN                   NaN   \n",
            "\n",
            "        geo.coordinates.coordinates  \n",
            "0                               NaN  \n",
            "1                               NaN  \n",
            "2                               NaN  \n",
            "3                               NaN  \n",
            "4                               NaN  \n",
            "...                             ...  \n",
            "123142                          NaN  \n",
            "123143                          NaN  \n",
            "123144                          NaN  \n",
            "123145                          NaN  \n",
            "123146                          NaN  \n",
            "\n",
            "[123147 rows x 36 columns]\n"
          ]
        }
      ]
    },
    {
      "cell_type": "code",
      "source": [
        "df.info()"
      ],
      "metadata": {
        "colab": {
          "base_uri": "https://localhost:8080/"
        },
        "id": "vZh1iXP_svoY",
        "outputId": "dfeb651b-bf2d-4de6-8b3f-801d0d109959"
      },
      "execution_count": 3,
      "outputs": [
        {
          "output_type": "stream",
          "name": "stdout",
          "text": [
            "<class 'pandas.core.frame.DataFrame'>\n",
            "RangeIndex: 123147 entries, 0 to 123146\n",
            "Data columns (total 36 columns):\n",
            " #   Column                             Non-Null Count   Dtype  \n",
            "---  ------                             --------------   -----  \n",
            " 0   created_at                         123147 non-null  object \n",
            " 1   text                               123147 non-null  object \n",
            " 2   conversation_id                    123147 non-null  int64  \n",
            " 3   reply_settings                     123147 non-null  object \n",
            " 4   edit_history_tweet_ids             123147 non-null  object \n",
            " 5   lang                               123147 non-null  object \n",
            " 6   referenced_tweets                  106743 non-null  object \n",
            " 7   possibly_sensitive                 123147 non-null  bool   \n",
            " 8   id                                 123147 non-null  int64  \n",
            " 9   author_id                          123147 non-null  int64  \n",
            " 10  entities.annotations               77396 non-null   object \n",
            " 11  entities.mentions                  109578 non-null  object \n",
            " 12  public_metrics.retweet_count       123147 non-null  int64  \n",
            " 13  public_metrics.reply_count         123147 non-null  int64  \n",
            " 14  public_metrics.like_count          123147 non-null  int64  \n",
            " 15  public_metrics.quote_count         123147 non-null  int64  \n",
            " 16  public_metrics.bookmark_count      123147 non-null  int64  \n",
            " 17  public_metrics.impression_count    123147 non-null  int64  \n",
            " 18  edit_controls.edits_remaining      123147 non-null  int64  \n",
            " 19  edit_controls.is_edit_eligible     123147 non-null  bool   \n",
            " 20  edit_controls.editable_until       123147 non-null  object \n",
            " 21  entities.urls                      45893 non-null   object \n",
            " 22  attachments.media_keys             35469 non-null   object \n",
            " 23  entities.hashtags                  66048 non-null   object \n",
            " 24  in_reply_to_user_id                45357 non-null   float64\n",
            " 25  attachments.media_source_tweet_id  25805 non-null   object \n",
            " 26  entities.cashtags                  505 non-null     object \n",
            " 27  location                           67243 non-null   object \n",
            " 28  username                           123147 non-null  object \n",
            " 29  name                               123144 non-null  object \n",
            " 30  brand                              123147 non-null  object \n",
            " 31  geo.place_id                       509 non-null     object \n",
            " 32  attachments.poll_ids               59 non-null      object \n",
            " 33  withheld.country_codes             76 non-null      object \n",
            " 34  geo.coordinates.type               2 non-null       object \n",
            " 35  geo.coordinates.coordinates        2 non-null       object \n",
            "dtypes: bool(2), float64(1), int64(10), object(23)\n",
            "memory usage: 32.2+ MB\n"
          ]
        }
      ]
    },
    {
      "cell_type": "code",
      "source": [
        "def extract_hashtags(text):\n",
        "    return re.findall(r'#\\w+', text.lower()) if isinstance(text, str) else []\n",
        "\n",
        "# Apply function to extract hashtags\n",
        "df['hashtags'] = df['text'].apply(extract_hashtags)\n",
        "\n",
        "# Flatten the list of hashtags and count occurrences\n",
        "all_hashtags = [hashtag for hashtags in df['hashtags'] for hashtag in hashtags]\n",
        "hashtag_counts = Counter(all_hashtags)\n",
        "\n",
        "# Get the top 10 hashtags\n",
        "top_10_hashtags = hashtag_counts.most_common(30)\n",
        "\n",
        "# Convert to DataFrame for visualization\n",
        "top_hashtags_df = pd.DataFrame(top_10_hashtags, columns=['Hashtag', 'Count'])\n",
        "\n",
        "# Display the top 10 hashtags\n",
        "print(top_hashtags_df)"
      ],
      "metadata": {
        "colab": {
          "base_uri": "https://localhost:8080/"
        },
        "id": "lhqcn0SHazUh",
        "outputId": "f97d6719-42b8-4436-edb0-2b99ab3ed2b3"
      },
      "execution_count": 4,
      "outputs": [
        {
          "output_type": "stream",
          "name": "stdout",
          "text": [
            "            Hashtag  Count\n",
            "0            #sblix  22798\n",
            "1      #sweepstakes  15217\n",
            "2     #playforultra  11458\n",
            "3         #onlylays   8903\n",
            "4     #superbowllix   5884\n",
            "5        #superbowl   4852\n",
            "6   #thisbudsforyou   4761\n",
            "7              #nfl   4445\n",
            "8     #doritoscrash   4280\n",
            "9         #tombrady   2488\n",
            "10   #kendricklamar   2069\n",
            "11           #stich   1944\n",
            "12       #tomcruise   1944\n",
            "13          #eagles   1766\n",
            "14    #flyeaglesfly   1589\n",
            "15     #taylorswift   1531\n",
            "16     #nflplayoffs   1517\n",
            "17         #mahomes   1513\n",
            "18            #sb59   1453\n",
            "19         #nfl2024   1439\n",
            "20         #nfl2025   1438\n",
            "21           #entry   1265\n",
            "22       #gemini_nt   1223\n",
            "23    #thunderbolts   1160\n",
            "24            #bmoc   1101\n",
            "25             #เจม   1018\n",
            "26  #watchthelastad    829\n",
            "27       #nonogirls    713\n",
            "28            #hana    521\n",
            "29         #fanduel    512\n"
          ]
        }
      ]
    },
    {
      "cell_type": "code",
      "source": [
        "# Drop columns with more than 25% missing values to retain only those with at least 75% non-null data\n",
        "df = df.dropna(axis=1, thresh=len(df) * 0.75)\n",
        "\n",
        "#Removes duplicate or irrelevant data\n",
        "df = df.drop(columns=['duplicate_info'], errors='ignore')\n",
        "\n",
        "# Remove Null Values\n",
        "df = df.dropna()\n",
        "\n",
        "# Check if there are any missing values left\n",
        "print(df.isnull().sum())\n",
        "print(df.dtypes)\n",
        "print(df)"
      ],
      "metadata": {
        "colab": {
          "base_uri": "https://localhost:8080/"
        },
        "id": "UUWXBWofHTxK",
        "outputId": "6c688409-dda7-496c-cec2-3af732be732d"
      },
      "execution_count": 5,
      "outputs": [
        {
          "output_type": "stream",
          "name": "stdout",
          "text": [
            "created_at                         0\n",
            "text                               0\n",
            "conversation_id                    0\n",
            "reply_settings                     0\n",
            "edit_history_tweet_ids             0\n",
            "lang                               0\n",
            "referenced_tweets                  0\n",
            "possibly_sensitive                 0\n",
            "id                                 0\n",
            "author_id                          0\n",
            "entities.mentions                  0\n",
            "public_metrics.retweet_count       0\n",
            "public_metrics.reply_count         0\n",
            "public_metrics.like_count          0\n",
            "public_metrics.quote_count         0\n",
            "public_metrics.bookmark_count      0\n",
            "public_metrics.impression_count    0\n",
            "edit_controls.edits_remaining      0\n",
            "edit_controls.is_edit_eligible     0\n",
            "edit_controls.editable_until       0\n",
            "username                           0\n",
            "name                               0\n",
            "brand                              0\n",
            "hashtags                           0\n",
            "dtype: int64\n",
            "created_at                         object\n",
            "text                               object\n",
            "conversation_id                     int64\n",
            "reply_settings                     object\n",
            "edit_history_tweet_ids             object\n",
            "lang                               object\n",
            "referenced_tweets                  object\n",
            "possibly_sensitive                   bool\n",
            "id                                  int64\n",
            "author_id                           int64\n",
            "entities.mentions                  object\n",
            "public_metrics.retweet_count        int64\n",
            "public_metrics.reply_count          int64\n",
            "public_metrics.like_count           int64\n",
            "public_metrics.quote_count          int64\n",
            "public_metrics.bookmark_count       int64\n",
            "public_metrics.impression_count     int64\n",
            "edit_controls.edits_remaining       int64\n",
            "edit_controls.is_edit_eligible       bool\n",
            "edit_controls.editable_until       object\n",
            "username                           object\n",
            "name                               object\n",
            "brand                              object\n",
            "hashtags                           object\n",
            "dtype: object\n",
            "                      created_at  \\\n",
            "0       2025-02-10T03:16:57.000Z   \n",
            "1       2025-02-10T03:16:49.000Z   \n",
            "5       2025-02-10T03:16:45.000Z   \n",
            "6       2025-02-10T03:16:45.000Z   \n",
            "7       2025-02-10T03:16:43.000Z   \n",
            "...                          ...   \n",
            "123138  2025-02-10T02:39:02.000Z   \n",
            "123139  2025-02-10T02:39:01.000Z   \n",
            "123140  2025-02-10T02:39:01.000Z   \n",
            "123143  2025-02-10T02:37:47.000Z   \n",
            "123146  2025-02-10T02:37:19.000Z   \n",
            "\n",
            "                                                     text  \\\n",
            "0       RT @patriotslatam: Sólo hay uno como ÉL.\\n\\nAb...   \n",
            "1       RT @patriotslatam: Sólo hay uno como ÉL.\\n\\nAb...   \n",
            "5       RT @billboard: Ben Affleck Brings Back the Dun...   \n",
            "6       RT @NFLFilms: .@TomBrady taking a nap less tha...   \n",
            "7       Not everyone can be this \\n@TomBrady you fucki...   \n",
            "...                                                   ...   \n",
            "123138                                @peng_penguins 하...   \n",
            "123139  RT @SteamGamesPC: 🐧 FEB 10 NEW FREE GAMES ON S...   \n",
            "123140  @redbullracing All the money redbull has and t...   \n",
            "123143  @broskisol @LucaNetz Great to hear about the n...   \n",
            "123146  RT @anninis: Por fin se quitó la camiseta de r...   \n",
            "\n",
            "            conversation_id reply_settings   edit_history_tweet_ids lang  \\\n",
            "0       1888789225308409951       everyone  ['1888789225308409951']   es   \n",
            "1       1888789188876894329       everyone  ['1888789188876894329']   es   \n",
            "5       1888789174926319942       everyone  ['1888789174926319942']   en   \n",
            "6       1888789173286343034       everyone  ['1888789173286343034']   en   \n",
            "7       1888789164579328429       everyone  ['1888789164579328429']   en   \n",
            "...                     ...            ...                      ...  ...   \n",
            "123138  1888776951785197733       everyone  ['1888779680989462886']   ko   \n",
            "123139  1888779678841745647       everyone  ['1888779678841745647']   en   \n",
            "123140  1888589167749148993       everyone  ['1888779675272364533']   en   \n",
            "123143  1888738596351279490       everyone  ['1888779365242360125']   en   \n",
            "123146  1888779248720081232       everyone  ['1888779248720081232']   es   \n",
            "\n",
            "                                        referenced_tweets  possibly_sensitive  \\\n",
            "0       [{'type': 'retweeted', 'id': '1888782268186890...               False   \n",
            "1       [{'type': 'retweeted', 'id': '1888782268186890...               False   \n",
            "5       [{'type': 'retweeted', 'id': '1888737296708472...               False   \n",
            "6       [{'type': 'retweeted', 'id': '1888608193510551...               False   \n",
            "7       [{'type': 'quoted', 'id': '1888780677295853663'}]               False   \n",
            "...                                                   ...                 ...   \n",
            "123138  [{'type': 'replied_to', 'id': '188877758372850...               False   \n",
            "123139  [{'type': 'retweeted', 'id': '1888754762105094...                True   \n",
            "123140  [{'type': 'replied_to', 'id': '188858916774914...               False   \n",
            "123143  [{'type': 'replied_to', 'id': '188873859635127...               False   \n",
            "123146  [{'type': 'retweeted', 'id': '1888415328973255...               False   \n",
            "\n",
            "                         id            author_id  ...  \\\n",
            "0       1888789225308409951            206743570  ...   \n",
            "1       1888789188876894329            282285390  ...   \n",
            "5       1888789174926319942             30152016  ...   \n",
            "6       1888789173286343034  1054069129966243840  ...   \n",
            "7       1888789164579328429           4668028074  ...   \n",
            "...                     ...                  ...  ...   \n",
            "123138  1888779680989462886           2306885672  ...   \n",
            "123139  1888779678841745647   907313946415255553  ...   \n",
            "123140  1888779675272364533  1134600093842231296  ...   \n",
            "123143  1888779365242360125             74298739  ...   \n",
            "123146  1888779248720081232  1507874980536758272  ...   \n",
            "\n",
            "       public_metrics.quote_count  public_metrics.bookmark_count  \\\n",
            "0                               0                              0   \n",
            "1                               0                              0   \n",
            "5                               0                              0   \n",
            "6                               0                              0   \n",
            "7                               0                              0   \n",
            "...                           ...                            ...   \n",
            "123138                          0                              0   \n",
            "123139                          0                              0   \n",
            "123140                          0                              0   \n",
            "123143                          0                              0   \n",
            "123146                          0                              0   \n",
            "\n",
            "        public_metrics.impression_count  edit_controls.edits_remaining  \\\n",
            "0                                     0                              5   \n",
            "1                                     0                              5   \n",
            "5                                     0                              5   \n",
            "6                                     0                              5   \n",
            "7                                   505                              5   \n",
            "...                                 ...                            ...   \n",
            "123138                             6559                              5   \n",
            "123139                                0                              5   \n",
            "123140                              603                              5   \n",
            "123143                              371                              5   \n",
            "123146                                0                              5   \n",
            "\n",
            "        edit_controls.is_edit_eligible  edit_controls.editable_until  \\\n",
            "0                                False      2025-02-10T04:16:57.000Z   \n",
            "1                                False      2025-02-10T04:16:49.000Z   \n",
            "5                                False      2025-02-10T04:16:45.000Z   \n",
            "6                                False      2025-02-10T04:16:45.000Z   \n",
            "7                                 True      2025-02-10T04:16:43.000Z   \n",
            "...                                ...                           ...   \n",
            "123138                           False      2025-02-10T03:39:02.000Z   \n",
            "123139                           False      2025-02-10T03:39:01.000Z   \n",
            "123140                           False      2025-02-10T03:39:01.000Z   \n",
            "123143                           False      2025-02-10T03:37:47.000Z   \n",
            "123146                           False      2025-02-10T03:37:19.000Z   \n",
            "\n",
            "               username                 name    brand hashtags  \n",
            "0            juanmelriv  || •)🇮🇩 Juan P Melo  Dunkin'       []  \n",
            "1          Camila110598                Camm♡  Dunkin'       []  \n",
            "5         sweetsmckenna          lisa stites  Dunkin'       []  \n",
            "6       ElliottEdward18      Elliott Edwards  Dunkin'       []  \n",
            "7             Utd_max13                 Bleh  Dunkin'       []  \n",
            "...                 ...                  ...      ...      ...  \n",
            "123138          Rukocos                   루코  RedBull       []  \n",
            "123139   mobbdeep889041     Daniel Alan Wood  RedBull       []  \n",
            "123140       MrHoosier_            MrHoosier  RedBull       []  \n",
            "123143     0xiLBiscione            Bun Agent  RedBull       []  \n",
            "123146     Ramf32951133                 Ramf  RedBull       []  \n",
            "\n",
            "[103290 rows x 24 columns]\n"
          ]
        }
      ]
    },
    {
      "cell_type": "code",
      "source": [
        "# Ensure total engagement column exists\n",
        "df['total_engagement'] = (df['public_metrics.retweet_count'] +\n",
        "                          df['public_metrics.reply_count'] +\n",
        "                          df['public_metrics.like_count'] +\n",
        "                          df['public_metrics.quote_count'] +\n",
        "                          df['public_metrics.bookmark_count'])\n",
        "\n",
        "# Spending data for top brands\n",
        "spending_data = {\n",
        "    \"Disney\": 8_000_000,\n",
        "    \"Homes.com\": 18_800_000,\n",
        "    \"Google\": 16_000_000,\n",
        "    \"Nike\": 73_600_000,\n",
        "    \"NFL\": 16_000_000,\n",
        "    \"TurboTax\": 17_400_000,\n",
        "    \"Hims & Hers\": 16_000_000,\n",
        "    \"Doritos\": 8_000_000,\n",
        "    \"Tubi\": 16_000_000,\n",
        "    \"hegetsus\": 16_000_000\n",
        "}\n",
        "\n",
        "# Get top 10 engaged brands\n",
        "top_brands = df.groupby('brand')['total_engagement'].sum().sort_values(ascending=False).head(10)\n",
        "\n",
        "# Normalize engagement per brand spending\n",
        "top_brands_spending = top_brands / top_brands.index.map(spending_data)\n",
        "top_brands_spending = top_brands_spending.sort_values(ascending=False)\n",
        "\n",
        "\n",
        "# Plot Top 10 Brands Engagement per Ad Spend\n",
        "plt.figure(figsize=(10, 5))\n",
        "sns.barplot(x=top_brands_spending.index, y=top_brands_spending.values, palette='Greens_r')\n",
        "plt.xlabel(\"Brand\")\n",
        "plt.ylabel(\"Engagement per Dollar Spent\")\n",
        "plt.title(\"Top 10 Most Engaged Brands per Dollar Spent\")\n",
        "plt.xticks(rotation=45)\n",
        "plt.show()"
      ],
      "metadata": {
        "colab": {
          "base_uri": "https://localhost:8080/",
          "height": 581
        },
        "id": "nSvbbw4VoPDE",
        "outputId": "f25c42c0-113a-4d8b-d1d9-1fe476f53097"
      },
      "execution_count": 6,
      "outputs": [
        {
          "output_type": "stream",
          "name": "stderr",
          "text": [
            "<ipython-input-6-f0d3aadd582a>:32: FutureWarning: \n",
            "\n",
            "Passing `palette` without assigning `hue` is deprecated and will be removed in v0.14.0. Assign the `x` variable to `hue` and set `legend=False` for the same effect.\n",
            "\n",
            "  sns.barplot(x=top_brands_spending.index, y=top_brands_spending.values, palette='Greens_r')\n"
          ]
        },
        {
          "output_type": "display_data",
          "data": {
            "text/plain": [
              "<Figure size 1000x500 with 1 Axes>"
            ],
            "image/png": "[encoded data removed]"
          },
          "metadata": {}
        }
      ]
    },
    {
      "cell_type": "code",
      "source": [
        "print(\"Top Brands Engagement per Ad Spend:\")\n",
        "print(top_brands_spending)"
      ],
      "metadata": {
        "colab": {
          "base_uri": "https://localhost:8080/"
        },
        "id": "NHDOtRIhp3GA",
        "outputId": "ed4ed553-d8bc-465d-df58-71593d0ca8d0"
      },
      "execution_count": 7,
      "outputs": [
        {
          "output_type": "stream",
          "name": "stdout",
          "text": [
            "Top Brands Engagement per Ad Spend:\n",
            "brand\n",
            "Disney         3.644526\n",
            "Google         1.238787\n",
            "Homes.com      1.186733\n",
            "NFL            1.034288\n",
            "Doritos        0.773611\n",
            "TurboTax       0.690913\n",
            "Hims & Hers    0.549955\n",
            "Tubi           0.340743\n",
            "hegetsus       0.304248\n",
            "Nike           0.245931\n",
            "dtype: float64\n"
          ]
        }
      ]
    },
    {
      "cell_type": "code",
      "source": [
        "print(18100551/16000000)"
      ],
      "metadata": {
        "colab": {
          "base_uri": "https://localhost:8080/"
        },
        "id": "9wvD7ikSqYt2",
        "outputId": "9062d734-76d7-450a-9b0f-961eeda67289"
      },
      "execution_count": 8,
      "outputs": [
        {
          "output_type": "stream",
          "name": "stdout",
          "text": [
            "1.1312844375\n"
          ]
        }
      ]
    },
    {
      "cell_type": "code",
      "source": [
        "df['total_engagement'] = (df['public_metrics.retweet_count'] +\n",
        "                          df['public_metrics.reply_count'] +\n",
        "                          df['public_metrics.like_count'] +\n",
        "                          df['public_metrics.quote_count'] +\n",
        "                          df['public_metrics.bookmark_count'])\n",
        "\n",
        "# Aggregate engagement by brand (make sure it's a DataFrame)\n",
        "brand_engagement = df.groupby('brand')['total_engagement'].sum().reset_index()\n",
        "\n",
        "# Sort by highest engagement and select top brands (top 10)\n",
        "top_brands = brand_engagement.sort_values(by='total_engagement', ascending=False).head(10)\n",
        "\n",
        "# Create the bar chart with the proper DataFrame\n",
        "plt.figure(figsize=(12, 6))\n",
        "\n",
        "# Use the seaborn barplot with the correct DataFrame\n",
        "sns.barplot(x='total_engagement', y='brand', data=top_brands, palette=\"viridis\")\n",
        "\n",
        "# Add titles and labels with customized font sizes and weights\n",
        "plt.title(\"Top 10 Brands with Highest Engagement\", fontsize=18, fontweight='bold', color='darkblue')\n",
        "plt.xlabel(\"Total Engagement\", fontsize=14, fontweight='bold', color='darkblue')\n",
        "plt.ylabel(\"Brand\", fontsize=14, fontweight='bold', color='darkblue')\n",
        "\n",
        "# Add the total engagement value to each bar\n",
        "for index, value in enumerate(top_brands['total_engagement']):\n",
        "    plt.text(value + 1000, index, f'{value}', va='center', fontsize=12, fontweight='bold', color='black')\n",
        "\n",
        "# Customize gridlines\n",
        "plt.grid(axis='x', linestyle='--', alpha=0.6)\n",
        "\n",
        "# Invert the y-axis so the highest values are at the top\n",
        "plt.gca().invert_yaxis()\n",
        "\n",
        "# Apply tight layout to ensure no overlap and space is used efficiently\n",
        "plt.tight_layout()\n",
        "\n",
        "# Show the plot\n",
        "plt.show()"
      ],
      "metadata": {
        "colab": {
          "base_uri": "https://localhost:8080/",
          "height": 489
        },
        "id": "8nffIJqqvyyX",
        "outputId": "bbbf5a81-80fb-4ab1-c0fd-c34baa621639"
      },
      "execution_count": 9,
      "outputs": [
        {
          "output_type": "stream",
          "name": "stderr",
          "text": [
            "<ipython-input-9-bafec8451776>:17: FutureWarning: \n",
            "\n",
            "Passing `palette` without assigning `hue` is deprecated and will be removed in v0.14.0. Assign the `y` variable to `hue` and set `legend=False` for the same effect.\n",
            "\n",
            "  sns.barplot(x='total_engagement', y='brand', data=top_brands, palette=\"viridis\")\n"
          ]
        },
        {
          "output_type": "display_data",
          "data": {
            "text/plain": [
              "<Figure size 1200x600 with 1 Axes>"
            ],
            "image/png": "[encoded data removed]"
          },
          "metadata": {}
        }
      ]
    },
    {
      "cell_type": "code",
      "source": [
        "# Calculate engagement per $1 spent (assuming each brand paid $8M)\n",
        "df['engagement_per_dollar'] = df['total_engagement'] / 8_000_000\n",
        "\n",
        "# Get top 10 engaged brands\n",
        "top_brands = df.groupby('brand')['total_engagement'].sum().sort_values(ascending=False).head(10)\n",
        "\n",
        "\n",
        "# Plot Top 10 Brands Engagement per $1 Spent\n",
        "plt.figure(figsize=(10, 5))\n",
        "sns.barplot(x=top_brands.index, y=top_brands.values / 8_000_000, palette='Greens_r')\n",
        "plt.xlabel(\"Brand\")\n",
        "plt.ylabel(\"Engagement per $1 Spent\")\n",
        "plt.title(\"Top 10 Most Engaged Brands per $1 Spent\")\n",
        "plt.xticks(rotation=45)\n",
        "plt.show()"
      ],
      "metadata": {
        "colab": {
          "base_uri": "https://localhost:8080/",
          "height": 581
        },
        "id": "GurPPWCpY-m4",
        "outputId": "54f272f6-c1f2-465c-ce9a-d94ff21b1530"
      },
      "execution_count": 10,
      "outputs": [
        {
          "output_type": "stream",
          "name": "stderr",
          "text": [
            "<ipython-input-10-985e057b1560>:10: FutureWarning: \n",
            "\n",
            "Passing `palette` without assigning `hue` is deprecated and will be removed in v0.14.0. Assign the `x` variable to `hue` and set `legend=False` for the same effect.\n",
            "\n",
            "  sns.barplot(x=top_brands.index, y=top_brands.values / 8_000_000, palette='Greens_r')\n"
          ]
        },
        {
          "output_type": "display_data",
          "data": {
            "text/plain": [
              "<Figure size 1000x500 with 1 Axes>"
            ],
            "image/png": "[encoded data removed]"
          },
          "metadata": {}
        }
      ]
    },
    {
      "cell_type": "code",
      "source": [
        "import pandas as pd\n",
        "import matplotlib.pyplot as plt\n",
        "import seaborn as sns\n",
        "\n",
        "# Ensure total engagement is correctly defined\n",
        "df['total_engagement'] = (\n",
        "    df['public_metrics.retweet_count'] +\n",
        "    df['public_metrics.reply_count'] +\n",
        "    df['public_metrics.like_count'] +\n",
        "    df['public_metrics.quote_count'] +\n",
        "    df['public_metrics.bookmark_count']\n",
        ")\n",
        "\n",
        "# Avoid division by zero\n",
        "df['engagement_rate'] = df['total_engagement'] / (df['public_metrics.impression_count'] + 1e-9)\n",
        "\n",
        "# Aggregate engagement rate by brand\n",
        "brand_engagement = df.groupby('brand')['engagement_rate'].mean().reset_index()\n",
        "\n",
        "# Sort and select top 10 brands\n",
        "top_brands = brand_engagement.sort_values(by='engagement_rate', ascending=False).head(10)\n",
        "\n",
        "# Create the bar chart\n",
        "plt.figure(figsize=(12, 6))\n",
        "sns.barplot(x='engagement_rate', y='brand', data=top_brands, palette=\"magma\")\n",
        "\n",
        "# Add titles and labels\n",
        "plt.title(\"Top 10 Brands with Highest Engagement Rate\", fontsize=18, fontweight='bold', color='darkblue')\n",
        "plt.xlabel(\"Engagement Rate\", fontsize=14, fontweight='bold', color='darkblue')\n",
        "plt.ylabel(\"Brand\", fontsize=14, fontweight='bold', color='darkblue')\n",
        "\n",
        "# Add engagement rate values on bars\n",
        "for index, value in enumerate(top_brands['engagement_rate']):\n",
        "    plt.text(value + 0.0001, index, f'{value:.2f}', va='center', fontsize=12, fontweight='bold', color='black')\n",
        "\n",
        "# Customize gridlines\n",
        "plt.grid(axis='x', linestyle='--', alpha=0.6)\n",
        "\n",
        "# Invert y-axis so the highest engagement is on top\n",
        "plt.gca().invert_yaxis()\n",
        "\n",
        "# Apply tight layout for better spacing\n",
        "plt.tight_layout()\n",
        "\n",
        "# Show the plot\n",
        "plt.show()"
      ],
      "metadata": {
        "colab": {
          "base_uri": "https://localhost:8080/",
          "height": 487
        },
        "id": "x-3UnCczLRRQ",
        "outputId": "d4241a61-093a-41c1-883b-da25f6a8b224"
      },
      "execution_count": 11,
      "outputs": [
        {
          "output_type": "stream",
          "name": "stderr",
          "text": [
            "<ipython-input-11-7e0338c3aa54>:25: FutureWarning: \n",
            "\n",
            "Passing `palette` without assigning `hue` is deprecated and will be removed in v0.14.0. Assign the `y` variable to `hue` and set `legend=False` for the same effect.\n",
            "\n",
            "  sns.barplot(x='engagement_rate', y='brand', data=top_brands, palette=\"magma\")\n"
          ]
        },
        {
          "output_type": "display_data",
          "data": {
            "text/plain": [
              "<Figure size 1200x600 with 1 Axes>"
            ],
            "image/png": "[encoded data removed]"
          },
          "metadata": {}
        }
      ]
    },
    {
      "cell_type": "code",
      "source": [
        "df.info()"
      ],
      "metadata": {
        "colab": {
          "base_uri": "https://localhost:8080/"
        },
        "id": "z5d0qrnEIPac",
        "outputId": "074a2b15-4bb7-4927-c999-2d45eef34644"
      },
      "execution_count": 12,
      "outputs": [
        {
          "output_type": "stream",
          "name": "stdout",
          "text": [
            "<class 'pandas.core.frame.DataFrame'>\n",
            "Index: 103290 entries, 0 to 123146\n",
            "Data columns (total 27 columns):\n",
            " #   Column                           Non-Null Count   Dtype  \n",
            "---  ------                           --------------   -----  \n",
            " 0   created_at                       103290 non-null  object \n",
            " 1   text                             103290 non-null  object \n",
            " 2   conversation_id                  103290 non-null  int64  \n",
            " 3   reply_settings                   103290 non-null  object \n",
            " 4   edit_history_tweet_ids           103290 non-null  object \n",
            " 5   lang                             103290 non-null  object \n",
            " 6   referenced_tweets                103290 non-null  object \n",
            " 7   possibly_sensitive               103290 non-null  bool   \n",
            " 8   id                               103290 non-null  int64  \n",
            " 9   author_id                        103290 non-null  int64  \n",
            " 10  entities.mentions                103290 non-null  object \n",
            " 11  public_metrics.retweet_count     103290 non-null  int64  \n",
            " 12  public_metrics.reply_count       103290 non-null  int64  \n",
            " 13  public_metrics.like_count        103290 non-null  int64  \n",
            " 14  public_metrics.quote_count       103290 non-null  int64  \n",
            " 15  public_metrics.bookmark_count    103290 non-null  int64  \n",
            " 16  public_metrics.impression_count  103290 non-null  int64  \n",
            " 17  edit_controls.edits_remaining    103290 non-null  int64  \n",
            " 18  edit_controls.is_edit_eligible   103290 non-null  bool   \n",
            " 19  edit_controls.editable_until     103290 non-null  object \n",
            " 20  username                         103290 non-null  object \n",
            " 21  name                             103290 non-null  object \n",
            " 22  brand                            103290 non-null  object \n",
            " 23  hashtags                         103290 non-null  object \n",
            " 24  total_engagement                 103290 non-null  int64  \n",
            " 25  engagement_per_dollar            103290 non-null  float64\n",
            " 26  engagement_rate                  103290 non-null  float64\n",
            "dtypes: bool(2), float64(2), int64(11), object(12)\n",
            "memory usage: 20.7+ MB\n"
          ]
        }
      ]
    },
    {
      "cell_type": "code",
      "source": [
        "df.describe()"
      ],
      "metadata": {
        "colab": {
          "base_uri": "https://localhost:8080/",
          "height": 320
        },
        "id": "Ryhb_6FnJlhI",
        "outputId": "31b16410-1ed7-46e5-e03c-2eac636107ea"
      },
      "execution_count": 13,
      "outputs": [
        {
          "output_type": "execute_result",
          "data": {
            "text/plain": [
              "       conversation_id            id     author_id  \\\n",
              "count     1.032900e+05  1.032900e+05  1.032900e+05   \n",
              "mean      1.888388e+18  1.888786e+18  7.792534e+17   \n",
              "std       1.089131e+16  7.329651e+12  7.582379e+17   \n",
              "min       8.500303e+17  1.888651e+18  1.022100e+04   \n",
              "25%       1.888781e+18  1.888786e+18  4.553872e+08   \n",
              "50%       1.888787e+18  1.888788e+18  8.608652e+17   \n",
              "75%       1.888788e+18  1.888788e+18  1.520896e+18   \n",
              "max       1.888789e+18  1.888789e+18  1.888788e+18   \n",
              "\n",
              "       public_metrics.retweet_count  public_metrics.reply_count  \\\n",
              "count                 103290.000000               103290.000000   \n",
              "mean                    1508.921464                    0.074015   \n",
              "std                     5089.521390                    0.490252   \n",
              "min                        0.000000                    0.000000   \n",
              "25%                        0.000000                    0.000000   \n",
              "50%                       32.000000                    0.000000   \n",
              "75%                      781.000000                    0.000000   \n",
              "max                   115874.000000                   69.000000   \n",
              "\n",
              "       public_metrics.like_count  public_metrics.quote_count  \\\n",
              "count              103290.000000               103290.000000   \n",
              "mean                    0.526121                    0.001384   \n",
              "std                    18.956523                    0.044092   \n",
              "min                     0.000000                    0.000000   \n",
              "25%                     0.000000                    0.000000   \n",
              "50%                     0.000000                    0.000000   \n",
              "75%                     0.000000                    0.000000   \n",
              "max                  4632.000000                    6.000000   \n",
              "\n",
              "       public_metrics.bookmark_count  public_metrics.impression_count  \\\n",
              "count                  103290.000000                    103290.000000   \n",
              "mean                        0.008607                        48.143218   \n",
              "std                         0.308611                       979.797775   \n",
              "min                         0.000000                         0.000000   \n",
              "25%                         0.000000                         0.000000   \n",
              "50%                         0.000000                         0.000000   \n",
              "75%                         0.000000                         5.000000   \n",
              "max                        63.000000                    165742.000000   \n",
              "\n",
              "       edit_controls.edits_remaining  total_engagement  engagement_per_dollar  \\\n",
              "count                  103290.000000     103290.000000          103290.000000   \n",
              "mean                        4.999787       1509.531591               0.000189   \n",
              "std                         0.014593       5089.377884               0.000636   \n",
              "min                         4.000000          0.000000               0.000000   \n",
              "25%                         5.000000          0.000000               0.000000   \n",
              "50%                         5.000000         33.000000               0.000004   \n",
              "75%                         5.000000        781.000000               0.000098   \n",
              "max                         5.000000     115874.000000               0.014484   \n",
              "\n",
              "       engagement_rate  \n",
              "count     1.032900e+05  \n",
              "mean      1.506180e+12  \n",
              "std       5.085977e+12  \n",
              "min       0.000000e+00  \n",
              "25%       0.000000e+00  \n",
              "50%       3.100000e+10  \n",
              "75%       7.790000e+11  \n",
              "max       1.158740e+14  "
            ],
            "text/html": [
              "\n",
              "  <div id=\"df-4f4d5bab-96b1-4e7e-bfd4-e4f4c87bbe45\" class=\"colab-df-container\">\n",
              "    <div>\n",
              "<style scoped>\n",
              "    .dataframe tbody tr th:only-of-type {\n",
              "        vertical-align: middle;\n",
              "    }\n",
              "\n",
              "    .dataframe tbody tr th {\n",
              "        vertical-align: top;\n",
              "    }\n",
              "\n",
              "    .dataframe thead th {\n",
              "        text-align: right;\n",
              "    }\n",
              "</style>\n",
              "<table border=\"1\" class=\"dataframe\">\n",
              "  <thead>\n",
              "    <tr style=\"text-align: right;\">\n",
              "      <th></th>\n",
              "      <th>conversation_id</th>\n",
              "      <th>id</th>\n",
              "      <th>author_id</th>\n",
              "      <th>public_metrics.retweet_count</th>\n",
              "      <th>public_metrics.reply_count</th>\n",
              "      <th>public_metrics.like_count</th>\n",
              "      <th>public_metrics.quote_count</th>\n",
              "      <th>public_metrics.bookmark_count</th>\n",
              "      <th>public_metrics.impression_count</th>\n",
              "      <th>edit_controls.edits_remaining</th>\n",
              "      <th>total_engagement</th>\n",
              "      <th>engagement_per_dollar</th>\n",
              "      <th>engagement_rate</th>\n",
              "    </tr>\n",
              "  </thead>\n",
              "  <tbody>\n",
              "    <tr>\n",
              "      <th>count</th>\n",
              "      <td>1.032900e+05</td>\n",
              "      <td>1.032900e+05</td>\n",
              "      <td>1.032900e+05</td>\n",
              "      <td>103290.000000</td>\n",
              "      <td>103290.000000</td>\n",
              "      <td>103290.000000</td>\n",
              "      <td>103290.000000</td>\n",
              "      <td>103290.000000</td>\n",
              "      <td>103290.000000</td>\n",
              "      <td>103290.000000</td>\n",
              "      <td>103290.000000</td>\n",
              "      <td>103290.000000</td>\n",
              "      <td>1.032900e+05</td>\n",
              "    </tr>\n",
              "    <tr>\n",
              "      <th>mean</th>\n",
              "      <td>1.888388e+18</td>\n",
              "      <td>1.888786e+18</td>\n",
              "      <td>7.792534e+17</td>\n",
              "      <td>1508.921464</td>\n",
              "      <td>0.074015</td>\n",
              "      <td>0.526121</td>\n",
              "      <td>0.001384</td>\n",
              "      <td>0.008607</td>\n",
              "      <td>48.143218</td>\n",
              "      <td>4.999787</td>\n",
              "      <td>1509.531591</td>\n",
              "      <td>0.000189</td>\n",
              "      <td>1.506180e+12</td>\n",
              "    </tr>\n",
              "    <tr>\n",
              "      <th>std</th>\n",
              "      <td>1.089131e+16</td>\n",
              "      <td>7.329651e+12</td>\n",
              "      <td>7.582379e+17</td>\n",
              "      <td>5089.521390</td>\n",
              "      <td>0.490252</td>\n",
              "      <td>18.956523</td>\n",
              "      <td>0.044092</td>\n",
              "      <td>0.308611</td>\n",
              "      <td>979.797775</td>\n",
              "      <td>0.014593</td>\n",
              "      <td>5089.377884</td>\n",
              "      <td>0.000636</td>\n",
              "      <td>5.085977e+12</td>\n",
              "    </tr>\n",
              "    <tr>\n",
              "      <th>min</th>\n",
              "      <td>8.500303e+17</td>\n",
              "      <td>1.888651e+18</td>\n",
              "      <td>1.022100e+04</td>\n",
              "      <td>0.000000</td>\n",
              "      <td>0.000000</td>\n",
              "      <td>0.000000</td>\n",
              "      <td>0.000000</td>\n",
              "      <td>0.000000</td>\n",
              "      <td>0.000000</td>\n",
              "      <td>4.000000</td>\n",
              "      <td>0.000000</td>\n",
              "      <td>0.000000</td>\n",
              "      <td>0.000000e+00</td>\n",
              "    </tr>\n",
              "    <tr>\n",
              "      <th>25%</th>\n",
              "      <td>1.888781e+18</td>\n",
              "      <td>1.888786e+18</td>\n",
              "      <td>4.553872e+08</td>\n",
              "      <td>0.000000</td>\n",
              "      <td>0.000000</td>\n",
              "      <td>0.000000</td>\n",
              "      <td>0.000000</td>\n",
              "      <td>0.000000</td>\n",
              "      <td>0.000000</td>\n",
              "      <td>5.000000</td>\n",
              "      <td>0.000000</td>\n",
              "      <td>0.000000</td>\n",
              "      <td>0.000000e+00</td>\n",
              "    </tr>\n",
              "    <tr>\n",
              "      <th>50%</th>\n",
              "      <td>1.888787e+18</td>\n",
              "      <td>1.888788e+18</td>\n",
              "      <td>8.608652e+17</td>\n",
              "      <td>32.000000</td>\n",
              "      <td>0.000000</td>\n",
              "      <td>0.000000</td>\n",
              "      <td>0.000000</td>\n",
              "      <td>0.000000</td>\n",
              "      <td>0.000000</td>\n",
              "      <td>5.000000</td>\n",
              "      <td>33.000000</td>\n",
              "      <td>0.000004</td>\n",
              "      <td>3.100000e+10</td>\n",
              "    </tr>\n",
              "    <tr>\n",
              "      <th>75%</th>\n",
              "      <td>1.888788e+18</td>\n",
              "      <td>1.888788e+18</td>\n",
              "      <td>1.520896e+18</td>\n",
              "      <td>781.000000</td>\n",
              "      <td>0.000000</td>\n",
              "      <td>0.000000</td>\n",
              "      <td>0.000000</td>\n",
              "      <td>0.000000</td>\n",
              "      <td>5.000000</td>\n",
              "      <td>5.000000</td>\n",
              "      <td>781.000000</td>\n",
              "      <td>0.000098</td>\n",
              "      <td>7.790000e+11</td>\n",
              "    </tr>\n",
              "    <tr>\n",
              "      <th>max</th>\n",
              "      <td>1.888789e+18</td>\n",
              "      <td>1.888789e+18</td>\n",
              "      <td>1.888788e+18</td>\n",
              "      <td>115874.000000</td>\n",
              "      <td>69.000000</td>\n",
              "      <td>4632.000000</td>\n",
              "      <td>6.000000</td>\n",
              "      <td>63.000000</td>\n",
              "      <td>165742.000000</td>\n",
              "      <td>5.000000</td>\n",
              "      <td>115874.000000</td>\n",
              "      <td>0.014484</td>\n",
              "      <td>1.158740e+14</td>\n",
              "    </tr>\n",
              "  </tbody>\n",
              "</table>\n",
              "</div>\n",
              "    <div class=\"colab-df-buttons\">\n",
              "\n",
              "  <div class=\"colab-df-container\">\n",
              "    <button class=\"colab-df-convert\" onclick=\"convertToInteractive('df-4f4d5bab-96b1-4e7e-bfd4-e4f4c87bbe45')\"\n",
              "            title=\"Convert this dataframe to an interactive table.\"\n",
              "            style=\"display:none;\">\n",
              "\n",
              "  <svg xmlns=\"http://www.w3.org/2000/svg\" height=\"24px\" viewBox=\"0 -960 960 960\">\n",
              "    <path d=\"M120-120v-720h720v720H120Zm60-500h600v-160H180v160Zm220 220h160v-160H400v160Zm0 220h160v-160H400v160ZM180-400h160v-160H180v160Zm440 0h160v-160H620v160ZM180-180h160v-160H180v160Zm440 0h160v-160H620v160Z\"/>\n",
              "  </svg>\n",
              "    </button>\n",
              "\n",
              "  <style>\n",
              "    .colab-df-container {\n",
              "      display:flex;\n",
              "      gap: 12px;\n",
              "    }\n",
              "\n",
              "    .colab-df-convert {\n",
              "      background-color: #E8F0FE;\n",
              "      border: none;\n",
              "      border-radius: 50%;\n",
              "      cursor: pointer;\n",
              "      display: none;\n",
              "      fill: #1967D2;\n",
              "      height: 32px;\n",
              "      padding: 0 0 0 0;\n",
              "      width: 32px;\n",
              "    }\n",
              "\n",
              "    .colab-df-convert:hover {\n",
              "      background-color: #E2EBFA;\n",
              "      box-shadow: 0px 1px 2px rgba(60, 64, 67, 0.3), 0px 1px 3px 1px rgba(60, 64, 67, 0.15);\n",
              "      fill: #174EA6;\n",
              "    }\n",
              "\n",
              "    .colab-df-buttons div {\n",
              "      margin-bottom: 4px;\n",
              "    }\n",
              "\n",
              "    [theme=dark] .colab-df-convert {\n",
              "      background-color: #3B4455;\n",
              "      fill: #D2E3FC;\n",
              "    }\n",
              "\n",
              "    [theme=dark] .colab-df-convert:hover {\n",
              "      background-color: #434B5C;\n",
              "      box-shadow: 0px 1px 3px 1px rgba(0, 0, 0, 0.15);\n",
              "      filter: drop-shadow(0px 1px 2px rgba(0, 0, 0, 0.3));\n",
              "      fill: #FFFFFF;\n",
              "    }\n",
              "  </style>\n",
              "\n",
              "    <script>\n",
              "      const buttonEl =\n",
              "        document.querySelector('#df-4f4d5bab-96b1-4e7e-bfd4-e4f4c87bbe45 button.colab-df-convert');\n",
              "      buttonEl.style.display =\n",
              "        google.colab.kernel.accessAllowed ? 'block' : 'none';\n",
              "\n",
              "      async function convertToInteractive(key) {\n",
              "        const element = document.querySelector('#df-4f4d5bab-96b1-4e7e-bfd4-e4f4c87bbe45');\n",
              "        const dataTable =\n",
              "          await google.colab.kernel.invokeFunction('convertToInteractive',\n",
              "                                                    [key], {});\n",
              "        if (!dataTable) return;\n",
              "\n",
              "        const docLinkHtml = 'Like what you see? Visit the ' +\n",
              "          '<a target=\"_blank\" href=https://colab.research.google.com/notebooks/data_table.ipynb>data table notebook</a>'\n",
              "          + ' to learn more about interactive tables.';\n",
              "        element.innerHTML = '';\n",
              "        dataTable['output_type'] = 'display_data';\n",
              "        await google.colab.output.renderOutput(dataTable, element);\n",
              "        const docLink = document.createElement('div');\n",
              "        docLink.innerHTML = docLinkHtml;\n",
              "        element.appendChild(docLink);\n",
              "      }\n",
              "    </script>\n",
              "  </div>\n",
              "\n",
              "\n",
              "    <div id=\"df-769c58e6-3a00-43a9-900b-c4e87a5695e6\">\n",
              "      <button class=\"colab-df-quickchart\" onclick=\"quickchart('df-769c58e6-3a00-43a9-900b-c4e87a5695e6')\"\n",
              "                title=\"Suggest charts\"\n",
              "                style=\"display:none;\">\n",
              "\n",
              "<svg xmlns=\"http://www.w3.org/2000/svg\" height=\"24px\"viewBox=\"0 0 24 24\"\n",
              "     width=\"24px\">\n",
              "    <g>\n",
              "        <path d=\"M19 3H5c-1.1 0-2 .9-2 2v14c0 1.1.9 2 2 2h14c1.1 0 2-.9 2-2V5c0-1.1-.9-2-2-2zM9 17H7v-7h2v7zm4 0h-2V7h2v10zm4 0h-2v-4h2v4z\"/>\n",
              "    </g>\n",
              "</svg>\n",
              "      </button>\n",
              "\n",
              "<style>\n",
              "  .colab-df-quickchart {\n",
              "      --bg-color: #E8F0FE;\n",
              "      --fill-color: #1967D2;\n",
              "      --hover-bg-color: #E2EBFA;\n",
              "      --hover-fill-color: #174EA6;\n",
              "      --disabled-fill-color: #AAA;\n",
              "      --disabled-bg-color: #DDD;\n",
              "  }\n",
              "\n",
              "  [theme=dark] .colab-df-quickchart {\n",
              "      --bg-color: #3B4455;\n",
              "      --fill-color: #D2E3FC;\n",
              "      --hover-bg-color: #434B5C;\n",
              "      --hover-fill-color: #FFFFFF;\n",
              "      --disabled-bg-color: #3B4455;\n",
              "      --disabled-fill-color: #666;\n",
              "  }\n",
              "\n",
              "  .colab-df-quickchart {\n",
              "    background-color: var(--bg-color);\n",
              "    border: none;\n",
              "    border-radius: 50%;\n",
              "    cursor: pointer;\n",
              "    display: none;\n",
              "    fill: var(--fill-color);\n",
              "    height: 32px;\n",
              "    padding: 0;\n",
              "    width: 32px;\n",
              "  }\n",
              "\n",
              "  .colab-df-quickchart:hover {\n",
              "    background-color: var(--hover-bg-color);\n",
              "    box-shadow: 0 1px 2px rgba(60, 64, 67, 0.3), 0 1px 3px 1px rgba(60, 64, 67, 0.15);\n",
              "    fill: var(--button-hover-fill-color);\n",
              "  }\n",
              "\n",
              "  .colab-df-quickchart-complete:disabled,\n",
              "  .colab-df-quickchart-complete:disabled:hover {\n",
              "    background-color: var(--disabled-bg-color);\n",
              "    fill: var(--disabled-fill-color);\n",
              "    box-shadow: none;\n",
              "  }\n",
              "\n",
              "  .colab-df-spinner {\n",
              "    border: 2px solid var(--fill-color);\n",
              "    border-color: transparent;\n",
              "    border-bottom-color: var(--fill-color);\n",
              "    animation:\n",
              "      spin 1s steps(1) infinite;\n",
              "  }\n",
              "\n",
              "  @keyframes spin {\n",
              "    0% {\n",
              "      border-color: transparent;\n",
              "      border-bottom-color: var(--fill-color);\n",
              "      border-left-color: var(--fill-color);\n",
              "    }\n",
              "    20% {\n",
              "      border-color: transparent;\n",
              "      border-left-color: var(--fill-color);\n",
              "      border-top-color: var(--fill-color);\n",
              "    }\n",
              "    30% {\n",
              "      border-color: transparent;\n",
              "      border-left-color: var(--fill-color);\n",
              "      border-top-color: var(--fill-color);\n",
              "      border-right-color: var(--fill-color);\n",
              "    }\n",
              "    40% {\n",
              "      border-color: transparent;\n",
              "      border-right-color: var(--fill-color);\n",
              "      border-top-color: var(--fill-color);\n",
              "    }\n",
              "    60% {\n",
              "      border-color: transparent;\n",
              "      border-right-color: var(--fill-color);\n",
              "    }\n",
              "    80% {\n",
              "      border-color: transparent;\n",
              "      border-right-color: var(--fill-color);\n",
              "      border-bottom-color: var(--fill-color);\n",
              "    }\n",
              "    90% {\n",
              "      border-color: transparent;\n",
              "      border-bottom-color: var(--fill-color);\n",
              "    }\n",
              "  }\n",
              "</style>\n",
              "\n",
              "      <script>\n",
              "        async function quickchart(key) {\n",
              "          const quickchartButtonEl =\n",
              "            document.querySelector('#' + key + ' button');\n",
              "          quickchartButtonEl.disabled = true;  // To prevent multiple clicks.\n",
              "          quickchartButtonEl.classList.add('colab-df-spinner');\n",
              "          try {\n",
              "            const charts = await google.colab.kernel.invokeFunction(\n",
              "                'suggestCharts', [key], {});\n",
              "          } catch (error) {\n",
              "            console.error('Error during call to suggestCharts:', error);\n",
              "          }\n",
              "          quickchartButtonEl.classList.remove('colab-df-spinner');\n",
              "          quickchartButtonEl.classList.add('colab-df-quickchart-complete');\n",
              "        }\n",
              "        (() => {\n",
              "          let quickchartButtonEl =\n",
              "            document.querySelector('#df-769c58e6-3a00-43a9-900b-c4e87a5695e6 button');\n",
              "          quickchartButtonEl.style.display =\n",
              "            google.colab.kernel.accessAllowed ? 'block' : 'none';\n",
              "        })();\n",
              "      </script>\n",
              "    </div>\n",
              "\n",
              "    </div>\n",
              "  </div>\n"
            ],
            "application/vnd.google.colaboratory.intrinsic+json": {
              "type": "dataframe",
              "summary": "{\n  \"name\": \"df\",\n  \"rows\": 8,\n  \"fields\": [\n    {\n      \"column\": \"conversation_id\",\n      \"properties\": {\n        \"dtype\": \"number\",\n        \"std\": 8.689904816281324e+17,\n        \"min\": 103290.0,\n        \"max\": 1.8887892337724872e+18,\n        \"num_unique_values\": 8,\n        \"samples\": [\n          1.8883884912391726e+18,\n          1.8887870441530982e+18,\n          103290.0\n        ],\n        \"semantic_type\": \"\",\n        \"description\": \"\"\n      }\n    },\n    {\n      \"column\": \"id\",\n      \"properties\": {\n        \"dtype\": \"number\",\n        \"std\": 8.743264472516289e+17,\n        \"min\": 103290.0,\n        \"max\": 1.8887892337725156e+18,\n        \"num_unique_values\": 8,\n        \"samples\": [\n          1.8887855438905628e+18,\n          1.888787577370471e+18,\n          103290.0\n        ],\n        \"semantic_type\": \"\",\n        \"description\": \"\"\n      }\n    },\n    {\n      \"column\": \"author_id\",\n      \"properties\": {\n        \"dtype\": \"number\",\n        \"std\": 7.158639244143927e+17,\n        \"min\": 10221.0,\n        \"max\": 1.88878830116062e+18,\n        \"num_unique_values\": 8,\n        \"samples\": [\n          7.792534273022126e+17,\n          8.608651596144312e+17,\n          103290.0\n        ],\n        \"semantic_type\": \"\",\n        \"description\": \"\"\n      }\n    },\n    {\n      \"column\": \"public_metrics.retweet_count\",\n      \"properties\": {\n        \"dtype\": \"number\",\n        \"std\": 50295.335086037914,\n        \"min\": 0.0,\n        \"max\": 115874.0,\n        \"num_unique_values\": 7,\n        \"samples\": [\n          103290.0,\n          1508.9214638396747,\n          781.0\n        ],\n        \"semantic_type\": \"\",\n        \"description\": \"\"\n      }\n    },\n    {\n      \"column\": \"public_metrics.reply_count\",\n      \"properties\": {\n        \"dtype\": \"number\",\n        \"std\": 36515.02414970997,\n        \"min\": 0.0,\n        \"max\": 103290.0,\n        \"num_unique_values\": 5,\n        \"samples\": [\n          0.07401490947816826,\n          69.0,\n          0.4902515290691899\n        ],\n        \"semantic_type\": \"\",\n        \"description\": \"\"\n      }\n    },\n    {\n      \"column\": \"public_metrics.like_count\",\n      \"properties\": {\n        \"dtype\": \"number\",\n        \"std\": 36319.729829493575,\n        \"min\": 0.0,\n        \"max\": 103290.0,\n        \"num_unique_values\": 5,\n        \"samples\": [\n          0.5261206312324523,\n          4632.0,\n          18.956523057980665\n        ],\n        \"semantic_type\": \"\",\n        \"description\": \"\"\n      }\n    },\n    {\n      \"column\": \"public_metrics.quote_count\",\n      \"properties\": {\n        \"dtype\": \"number\",\n        \"std\": 36518.22443192894,\n        \"min\": 0.0,\n        \"max\": 103290.0,\n        \"num_unique_values\": 5,\n        \"samples\": [\n          0.0013844515441959531,\n          6.0,\n          0.044091716464990584\n        ],\n        \"semantic_type\": \"\",\n        \"description\": \"\"\n      }\n    },\n    {\n      \"column\": \"public_metrics.bookmark_count\",\n      \"properties\": {\n        \"dtype\": \"number\",\n        \"std\": 36515.33835564986,\n        \"min\": 0.0,\n        \"max\": 103290.0,\n        \"num_unique_values\": 5,\n        \"samples\": [\n          0.00860683512440701,\n          63.0,\n          0.3086114198584585\n        ],\n        \"semantic_type\": \"\",\n        \"description\": \"\"\n      }\n    },\n    {\n      \"column\": \"public_metrics.impression_count\",\n      \"properties\": {\n        \"dtype\": \"number\",\n        \"std\": 64390.8966128239,\n        \"min\": 0.0,\n        \"max\": 165742.0,\n        \"num_unique_values\": 6,\n        \"samples\": [\n          103290.0,\n          48.143218123729305,\n          165742.0\n        ],\n        \"semantic_type\": \"\",\n        \"description\": \"\"\n      }\n    },\n    {\n      \"column\": \"edit_controls.edits_remaining\",\n      \"properties\": {\n        \"dtype\": \"number\",\n        \"std\": 36517.06430746106,\n        \"min\": 0.014592780444421595,\n        \"max\": 103290.0,\n        \"num_unique_values\": 5,\n        \"samples\": [\n          4.9997870074547395,\n          5.0,\n          0.014592780444421595\n        ],\n        \"semantic_type\": \"\",\n        \"description\": \"\"\n      }\n    },\n    {\n      \"column\": \"total_engagement\",\n      \"properties\": {\n        \"dtype\": \"number\",\n        \"std\": 50295.21773698961,\n        \"min\": 0.0,\n        \"max\": 115874.0,\n        \"num_unique_values\": 7,\n        \"samples\": [\n          103290.0,\n          1509.531590667054,\n          781.0\n        ],\n        \"semantic_type\": \"\",\n        \"description\": \"\"\n      }\n    },\n    {\n      \"column\": \"engagement_per_dollar\",\n      \"properties\": {\n        \"dtype\": \"number\",\n        \"std\": 36518.528936013434,\n        \"min\": 0.0,\n        \"max\": 103290.0,\n        \"num_unique_values\": 7,\n        \"samples\": [\n          103290.0,\n          0.00018869144883338173,\n          9.7625e-05\n        ],\n        \"semantic_type\": \"\",\n        \"description\": \"\"\n      }\n    },\n    {\n      \"column\": \"engagement_rate\",\n      \"properties\": {\n        \"dtype\": \"number\",\n        \"std\": 40630567435707.414,\n        \"min\": 0.0,\n        \"max\": 115874000000000.0,\n        \"num_unique_values\": 7,\n        \"samples\": [\n          103290.0,\n          1506179523673.663,\n          779000000000.0\n        ],\n        \"semantic_type\": \"\",\n        \"description\": \"\"\n      }\n    }\n  ]\n}"
            }
          },
          "metadata": {},
          "execution_count": 13
        }
      ]
    },
    {
      "cell_type": "code",
      "source": [
        "df['total_engagement'] = (df['public_metrics.retweet_count'] +\n",
        "                          df['public_metrics.reply_count'] +\n",
        "                          df['public_metrics.like_count'] +\n",
        "                          df['public_metrics.quote_count'] +\n",
        "                          df['public_metrics.bookmark_count']/\n",
        "                          df['public_metrics.impression_count'])"
      ],
      "metadata": {
        "id": "c7-ryKq2GMCx"
      },
      "execution_count": 14,
      "outputs": []
    },
    {
      "cell_type": "code",
      "source": [
        "df['total_engagement'] = df['total_engagement'].fillna(0)\n",
        "#df['total_engagement'] = df['total_engagement'].astype(int)\n",
        "df = df.drop_duplicates(subset=['id'])  # Assuming 'id' is the unique identifier"
      ],
      "metadata": {
        "id": "ndBIwbQ2GBMg"
      },
      "execution_count": 15,
      "outputs": []
    },
    {
      "cell_type": "code",
      "source": [
        "df.info()"
      ],
      "metadata": {
        "colab": {
          "base_uri": "https://localhost:8080/"
        },
        "id": "5HAjKQVq2ZXO",
        "outputId": "40f39616-d7b9-43c7-88e1-bda212e392cf"
      },
      "execution_count": 16,
      "outputs": [
        {
          "output_type": "stream",
          "name": "stdout",
          "text": [
            "<class 'pandas.core.frame.DataFrame'>\n",
            "Index: 52043 entries, 0 to 123146\n",
            "Data columns (total 27 columns):\n",
            " #   Column                           Non-Null Count  Dtype  \n",
            "---  ------                           --------------  -----  \n",
            " 0   created_at                       52043 non-null  object \n",
            " 1   text                             52043 non-null  object \n",
            " 2   conversation_id                  52043 non-null  int64  \n",
            " 3   reply_settings                   52043 non-null  object \n",
            " 4   edit_history_tweet_ids           52043 non-null  object \n",
            " 5   lang                             52043 non-null  object \n",
            " 6   referenced_tweets                52043 non-null  object \n",
            " 7   possibly_sensitive               52043 non-null  bool   \n",
            " 8   id                               52043 non-null  int64  \n",
            " 9   author_id                        52043 non-null  int64  \n",
            " 10  entities.mentions                52043 non-null  object \n",
            " 11  public_metrics.retweet_count     52043 non-null  int64  \n",
            " 12  public_metrics.reply_count       52043 non-null  int64  \n",
            " 13  public_metrics.like_count        52043 non-null  int64  \n",
            " 14  public_metrics.quote_count       52043 non-null  int64  \n",
            " 15  public_metrics.bookmark_count    52043 non-null  int64  \n",
            " 16  public_metrics.impression_count  52043 non-null  int64  \n",
            " 17  edit_controls.edits_remaining    52043 non-null  int64  \n",
            " 18  edit_controls.is_edit_eligible   52043 non-null  bool   \n",
            " 19  edit_controls.editable_until     52043 non-null  object \n",
            " 20  username                         52043 non-null  object \n",
            " 21  name                             52043 non-null  object \n",
            " 22  brand                            52043 non-null  object \n",
            " 23  hashtags                         52043 non-null  object \n",
            " 24  total_engagement                 52043 non-null  float64\n",
            " 25  engagement_per_dollar            52043 non-null  float64\n",
            " 26  engagement_rate                  52043 non-null  float64\n",
            "dtypes: bool(2), float64(3), int64(10), object(12)\n",
            "memory usage: 10.4+ MB\n"
          ]
        }
      ]
    },
    {
      "cell_type": "code",
      "source": [
        "# Calculate the total sum of total_engagement\n",
        "df['total_engagement'] = (df['public_metrics.retweet_count'] +\n",
        "                          df['public_metrics.reply_count'] +\n",
        "                          df['public_metrics.like_count'] +\n",
        "                          df['public_metrics.quote_count'] +\n",
        "                          df['public_metrics.bookmark_count']+\n",
        "                          df['public_metrics.impression_count'])\n",
        "total_engagement_sum = df['total_engagement'].sum()\n",
        "\n",
        "print(\"Total Engagement Sum:\", total_engagement_sum)"
      ],
      "metadata": {
        "colab": {
          "base_uri": "https://localhost:8080/"
        },
        "id": "e1kg6DsTBiUy",
        "outputId": "22a2a565-7035-4863-99b4-b197d2580a9b"
      },
      "execution_count": 17,
      "outputs": [
        {
          "output_type": "stream",
          "name": "stdout",
          "text": [
            "Total Engagement Sum: 132188536\n"
          ]
        },
        {
          "output_type": "stream",
          "name": "stderr",
          "text": [
            "<ipython-input-17-058ef92492e3>:2: SettingWithCopyWarning: \n",
            "A value is trying to be set on a copy of a slice from a DataFrame.\n",
            "Try using .loc[row_indexer,col_indexer] = value instead\n",
            "\n",
            "See the caveats in the documentation: https://pandas.pydata.org/pandas-docs/stable/user_guide/indexing.html#returning-a-view-versus-a-copy\n",
            "  df['total_engagement'] = (df['public_metrics.retweet_count'] +\n"
          ]
        }
      ]
    },
    {
      "cell_type": "code",
      "source": [
        "brand_counts = df['brand'].value_counts()\n",
        "\n",
        "# To get the total number of brands (unique brands)\n",
        "total_brands = df['brand'].nunique()\n",
        "\n",
        "print(\"Brand counts:\\n\", brand_counts)\n",
        "print(\"\\nTotal unique brands:\", total_brands)"
      ],
      "metadata": {
        "colab": {
          "base_uri": "https://localhost:8080/"
        },
        "id": "bQn38yiEA_yO",
        "outputId": "ae366152-45cd-4eb2-ad56-6866fe34fc90"
      },
      "execution_count": 18,
      "outputs": [
        {
          "output_type": "stream",
          "name": "stdout",
          "text": [
            "Brand counts:\n",
            " brand\n",
            "Disney                  5276\n",
            "Homes.com               5131\n",
            "NFL                     4936\n",
            "Google                  3871\n",
            "Dunkin'                 3834\n",
            "Bud Light               3230\n",
            "hegetsus                3092\n",
            "TurboTax                2779\n",
            "Lays                    2132\n",
            "Doritos                 1872\n",
            "Tubi                    1869\n",
            "Hims & Hers             1570\n",
            "Nike                    1499\n",
            "DoorDash                1453\n",
            "Little Caesars           813\n",
            "Instacart                787\n",
            "Michelob Ultra           600\n",
            "Fetch                    559\n",
            "Meta                     556\n",
            "openai                   526\n",
            "Coffee mate              459\n",
            "FanDuel                  421\n",
            "Taco Bell                399\n",
            "Budweiser                386\n",
            "Ram                      371\n",
            "Jeep                     364\n",
            "Poppi                    321\n",
            "Dove                     283\n",
            "Novartis                 254\n",
            "Stella Artois            181\n",
            "Squarespace              172\n",
            "MSC Cruises              160\n",
            "RedBull                  152\n",
            "Nerds                    151\n",
            "Hellmann's               150\n",
            "Ritz                     147\n",
            "Cirkul                    87\n",
            "Coors Light               81\n",
            "Rocket Mortgage           79\n",
            "WeatherTech               77\n",
            "Busch Light               76\n",
            "Häagen-Dazs              76\n",
            "Angel Soft                75\n",
            "Reese's                   74\n",
            "Mountain Dew              73\n",
            "Uber Eats                 73\n",
            "Liquid Death              71\n",
            "Oikos                     71\n",
            "Skechers                  68\n",
            "Booking.com               59\n",
            "FCAS                      56\n",
            "Totino's Pizza Rolls      48\n",
            "Pringles                  43\n",
            "NerdWallet                41\n",
            "GoDaddy                   29\n",
            "Bosch                     21\n",
            "Nerdwallet                 7\n",
            "HexClad                    1\n",
            "Duracell                   1\n",
            "Name: count, dtype: int64\n",
            "\n",
            "Total unique brands: 59\n"
          ]
        }
      ]
    },
    {
      "cell_type": "code",
      "source": [
        "# Convert the 'created_at' column to datetime format if not already\n",
        "df['created_at'] = pd.to_datetime(df['created_at'], errors='coerce')\n",
        "\n",
        "# df['created_at'] = df['created_at'].dt.tz_localize('UTC', ambiguous='NaT')\n",
        "\n",
        "# Convert 'created_at' from UTC to Eastern Time (ET)\n",
        "df['created_at'] = df['created_at'].dt.tz_convert('US/Eastern')\n",
        "\n",
        "# Verify the conversion\n",
        "print(df['created_at'].head(20))"
      ],
      "metadata": {
        "colab": {
          "base_uri": "https://localhost:8080/"
        },
        "id": "ht_KusRm7J1h",
        "outputId": "c21c33dc-2683-4504-ca78-24c58aaf39a1"
      },
      "execution_count": 19,
      "outputs": [
        {
          "output_type": "stream",
          "name": "stdout",
          "text": [
            "0    2025-02-09 22:16:57-05:00\n",
            "1    2025-02-09 22:16:49-05:00\n",
            "5    2025-02-09 22:16:45-05:00\n",
            "6    2025-02-09 22:16:45-05:00\n",
            "7    2025-02-09 22:16:43-05:00\n",
            "9    2025-02-09 22:16:40-05:00\n",
            "12   2025-02-09 22:16:37-05:00\n",
            "16   2025-02-09 22:16:27-05:00\n",
            "18   2025-02-09 22:16:23-05:00\n",
            "19   2025-02-09 22:16:16-05:00\n",
            "20   2025-02-09 22:16:15-05:00\n",
            "22   2025-02-09 22:16:04-05:00\n",
            "24   2025-02-09 22:15:57-05:00\n",
            "25   2025-02-09 22:15:57-05:00\n",
            "26   2025-02-09 22:15:57-05:00\n",
            "27   2025-02-09 22:15:53-05:00\n",
            "28   2025-02-09 22:15:42-05:00\n",
            "29   2025-02-09 22:15:38-05:00\n",
            "44   2025-02-09 22:15:30-05:00\n",
            "45   2025-02-09 22:15:26-05:00\n",
            "Name: created_at, dtype: datetime64[ns, US/Eastern]\n"
          ]
        }
      ]
    },
    {
      "cell_type": "code",
      "source": [
        "print(df['created_at'].tail(20))"
      ],
      "metadata": {
        "colab": {
          "base_uri": "https://localhost:8080/"
        },
        "id": "_erbZgYy8HNL",
        "outputId": "828fc10c-f3fb-436d-b607-89cc92791ea3"
      },
      "execution_count": 20,
      "outputs": [
        {
          "output_type": "stream",
          "name": "stdout",
          "text": [
            "123116   2025-02-09 21:42:07-05:00\n",
            "123117   2025-02-09 21:41:46-05:00\n",
            "123118   2025-02-09 21:41:42-05:00\n",
            "123119   2025-02-09 21:41:41-05:00\n",
            "123121   2025-02-09 21:41:12-05:00\n",
            "123124   2025-02-09 21:41:03-05:00\n",
            "123127   2025-02-09 21:40:19-05:00\n",
            "123128   2025-02-09 21:40:05-05:00\n",
            "123129   2025-02-09 21:40:01-05:00\n",
            "123130   2025-02-09 21:39:58-05:00\n",
            "123131   2025-02-09 21:39:50-05:00\n",
            "123132   2025-02-09 21:39:48-05:00\n",
            "123133   2025-02-09 21:39:46-05:00\n",
            "123134   2025-02-09 21:39:37-05:00\n",
            "123137   2025-02-09 21:39:15-05:00\n",
            "123138   2025-02-09 21:39:02-05:00\n",
            "123139   2025-02-09 21:39:01-05:00\n",
            "123140   2025-02-09 21:39:01-05:00\n",
            "123143   2025-02-09 21:37:47-05:00\n",
            "123146   2025-02-09 21:37:19-05:00\n",
            "Name: created_at, dtype: datetime64[ns, US/Eastern]\n"
          ]
        }
      ]
    },
    {
      "cell_type": "code",
      "source": [
        "df['total_engagement'] = (df['public_metrics.retweet_count'] +\n",
        "                          df['public_metrics.reply_count'] +\n",
        "                          df['public_metrics.like_count'] +\n",
        "                          df['public_metrics.quote_count'] +\n",
        "                          df['public_metrics.bookmark_count'])\n",
        "\n",
        "# Aggregate engagement by brand\n",
        "brand_engagement = df.groupby('brand')['total_engagement'].sum().reset_index()\n",
        "\n",
        "# Sort by highest engagement and select top brands\n",
        "top_brands = brand_engagement.sort_values(by='total_engagement', ascending=False).head(10)\n",
        "\n",
        "# Plot the top brands\n",
        "plt.figure(figsize=(12, 6))\n",
        "plt.barh(top_brands['brand'], top_brands['total_engagement'], color='royalblue')\n",
        "plt.xlabel(\"Total Engagement\")\n",
        "plt.ylabel(\"Brand\")\n",
        "plt.title(\"Top 10 Brands with Highest Engagement\")\n",
        "plt.gca().invert_yaxis()  # Invert to have the highest at the top\n",
        "plt.show()"
      ],
      "metadata": {
        "colab": {
          "base_uri": "https://localhost:8080/",
          "height": 394
        },
        "id": "WGXAVEa3OtBh",
        "outputId": "d269d903-f6ea-489a-ba96-256ba5b09f39"
      },
      "execution_count": 21,
      "outputs": [
        {
          "output_type": "display_data",
          "data": {
            "text/plain": [
              "<Figure size 1200x600 with 1 Axes>"
            ],
            "image/png": "[encoded data removed]"
          },
          "metadata": {}
        }
      ]
    },
    {
      "cell_type": "code",
      "source": [
        "#from google.colab import files\n",
        "# files.download('/content/created_at_column.csv')"
      ],
      "metadata": {
        "colab": {
          "base_uri": "https://localhost:8080/",
          "height": 280
        },
        "id": "sElJfHq7-Zbt",
        "outputId": "360ca390-8fb6-4f51-fc82-6c7c0a78ad4c"
      },
      "execution_count": 22,
      "outputs": [
        {
          "output_type": "error",
          "ename": "FileNotFoundError",
          "evalue": "Cannot find file: /content/created_at_column.csv",
          "traceback": [
            "\u001b[0;31m---------------------------------------------------------------------------\u001b[0m",
            "\u001b[0;31mFileNotFoundError\u001b[0m                         Traceback (most recent call last)",
            "\u001b[0;32m<ipython-input-22-57d609eef9b6>\u001b[0m in \u001b[0;36m<cell line: 0>\u001b[0;34m()\u001b[0m\n\u001b[1;32m      1\u001b[0m \u001b[0;32mfrom\u001b[0m \u001b[0mgoogle\u001b[0m\u001b[0;34m.\u001b[0m\u001b[0mcolab\u001b[0m \u001b[0;32mimport\u001b[0m \u001b[0mfiles\u001b[0m\u001b[0;34m\u001b[0m\u001b[0;34m\u001b[0m\u001b[0m\n\u001b[0;32m----> 2\u001b[0;31m \u001b[0mfiles\u001b[0m\u001b[0;34m.\u001b[0m\u001b[0mdownload\u001b[0m\u001b[0;34m(\u001b[0m\u001b[0;34m'/content/created_at_column.csv'\u001b[0m\u001b[0;34m)\u001b[0m\u001b[0;34m\u001b[0m\u001b[0;34m\u001b[0m\u001b[0m\n\u001b[0m",
            "\u001b[0;32m/usr/local/lib/python3.11/dist-packages/google/colab/files.py\u001b[0m in \u001b[0;36mdownload\u001b[0;34m(filename)\u001b[0m\n\u001b[1;32m    231\u001b[0m   \u001b[0;32mif\u001b[0m \u001b[0;32mnot\u001b[0m \u001b[0m_os\u001b[0m\u001b[0;34m.\u001b[0m\u001b[0mpath\u001b[0m\u001b[0;34m.\u001b[0m\u001b[0mexists\u001b[0m\u001b[0;34m(\u001b[0m\u001b[0mfilename\u001b[0m\u001b[0;34m)\u001b[0m\u001b[0;34m:\u001b[0m\u001b[0;34m\u001b[0m\u001b[0;34m\u001b[0m\u001b[0m\n\u001b[1;32m    232\u001b[0m     \u001b[0mmsg\u001b[0m \u001b[0;34m=\u001b[0m \u001b[0;34m'Cannot find file: {}'\u001b[0m\u001b[0;34m.\u001b[0m\u001b[0mformat\u001b[0m\u001b[0;34m(\u001b[0m\u001b[0mfilename\u001b[0m\u001b[0;34m)\u001b[0m\u001b[0;34m\u001b[0m\u001b[0;34m\u001b[0m\u001b[0m\n\u001b[0;32m--> 233\u001b[0;31m     \u001b[0;32mraise\u001b[0m \u001b[0mFileNotFoundError\u001b[0m\u001b[0;34m(\u001b[0m\u001b[0mmsg\u001b[0m\u001b[0;34m)\u001b[0m  \u001b[0;31m# pylint: disable=undefined-variable\u001b[0m\u001b[0;34m\u001b[0m\u001b[0;34m\u001b[0m\u001b[0m\n\u001b[0m\u001b[1;32m    234\u001b[0m \u001b[0;34m\u001b[0m\u001b[0m\n\u001b[1;32m    235\u001b[0m   \u001b[0mcomm_manager\u001b[0m \u001b[0;34m=\u001b[0m \u001b[0m_IPython\u001b[0m\u001b[0;34m.\u001b[0m\u001b[0mget_ipython\u001b[0m\u001b[0;34m(\u001b[0m\u001b[0;34m)\u001b[0m\u001b[0;34m.\u001b[0m\u001b[0mkernel\u001b[0m\u001b[0;34m.\u001b[0m\u001b[0mcomm_manager\u001b[0m\u001b[0;34m\u001b[0m\u001b[0;34m\u001b[0m\u001b[0m\n",
            "\u001b[0;31mFileNotFoundError\u001b[0m: Cannot find file: /content/created_at_column.csv"
          ]
        }
      ]
    },
    {
      "cell_type": "code",
      "source": [
        "# Set pandas option to display all rows\n",
        "#pd.set_option('display.max_rows', None)\n",
        "\n",
        "# Print the 'created_at' column\n",
        "#print(df['created_at'])\n",
        "\n",
        "# Reset to default to avoid printing too many rows next time\n",
        "#pd.reset_option('display.max_rows')\n",
        "#print(df['created_at'])"
      ],
      "metadata": {
        "id": "r17yAUhF9RsX"
      },
      "execution_count": null,
      "outputs": []
    },
    {
      "cell_type": "code",
      "source": [
        "def extract_hashtags(text):\n",
        "    return re.findall(r'#\\w+', text.lower()) if isinstance(text, str) else []\n",
        "\n",
        "# Apply function to extract hashtags\n",
        "df['hashtags'] = df['text'].apply(extract_hashtags)\n",
        "\n",
        "# Flatten the list of hashtags and count occurrences\n",
        "all_hashtags = [hashtag for hashtags in df['hashtags'] for hashtag in hashtags]\n",
        "hashtag_counts = Counter(all_hashtags)\n",
        "\n",
        "# Get the top 10 hashtags\n",
        "top_10_hashtags = hashtag_counts.most_common(10)\n",
        "\n",
        "# Convert to DataFrame for visualization\n",
        "top_hashtags_df = pd.DataFrame(top_10_hashtags, columns=['Hashtag', 'Count'])\n",
        "\n",
        "# Display the top 10 hashtags\n",
        "print(top_hashtags_df)"
      ],
      "metadata": {
        "id": "UewMFIzwudKK"
      },
      "execution_count": null,
      "outputs": []
    },
    {
      "cell_type": "code",
      "source": [
        "# Select only the public_metrics columns and compute the correlation matrix\n",
        "public_metrics_columns = [col for col in df.columns if 'public_metrics' in col]\n",
        "corr_matrix = df[public_metrics_columns].corr()\n",
        "\n",
        "# Set the style for the plot\n",
        "sns.set(style=\"whitegrid\", palette=\"muted\")\n",
        "\n",
        "# Create the heatmap for the correlation matrix\n",
        "plt.figure(figsize=(12, 8))  # Increase figure size for better clarity\n",
        "sns.heatmap(corr_matrix, annot=True, cmap=\"YlGnBu\", fmt=\".2f\", linewidths=0.5, cbar_kws={'label': 'Correlation Coefficient'}, annot_kws={\"size\": 12}, vmin=-1, vmax=1)\n",
        "\n",
        "# Title and axis labels with a modern font and styling\n",
        "plt.title(\"Correlation Matrix of Public Metrics\", fontsize=18, fontweight='bold', color=\"navy\", pad=20)\n",
        "plt.xticks(fontsize=12, rotation=45, ha=\"right\", color=\"darkblue\")\n",
        "plt.yticks(fontsize=12, rotation=0, color=\"darkblue\")\n",
        "\n",
        "# Add a border for clarity\n",
        "plt.gca().spines['top'].set_linewidth(2)\n",
        "plt.gca().spines['top'].set_color('gray')\n",
        "plt.gca().spines['right'].set_linewidth(2)\n",
        "plt.gca().spines['right'].set_color('gray')\n",
        "plt.gca().spines['left'].set_linewidth(2)\n",
        "plt.gca().spines['left'].set_color('gray')\n",
        "plt.gca().spines['bottom'].set_linewidth(2)\n",
        "plt.gca().spines['bottom'].set_color('gray')\n",
        "\n",
        "# Show the plot\n",
        "plt.tight_layout()\n",
        "plt.show()"
      ],
      "metadata": {
        "id": "07EZWCxZ1vTB"
      },
      "execution_count": null,
      "outputs": []
    },
    {
      "cell_type": "code",
      "source": [
        "public_metrics_columns = [col for col in df.columns if 'public_metrics' in col]\n",
        "\n",
        "# Select only the public_metrics columns and compute the correlation matrix\n",
        "corr_matrix = df[public_metrics_columns].corr()\n",
        "\n",
        "# Create the heatmap for the correlation matrix\n",
        "plt.figure(figsize=(10, 6))\n",
        "sns.heatmap(corr_matrix, annot=True, cmap=\"coolwarm\", fmt=\".2f\", linewidths=0.5)\n",
        "plt.title(\"Correlation Matrix of Public Metrics\")\n",
        "plt.show()"
      ],
      "metadata": {
        "id": "EhFNFcrpyB9v"
      },
      "execution_count": null,
      "outputs": []
    },
    {
      "cell_type": "code",
      "source": [
        "# Convert the 'created_at' column to datetime format\n",
        "df['created_at'] = pd.to_datetime(df['created_at'], errors='coerce')\n",
        "\n",
        "# Set 'created_at' as the index of the dataframe\n",
        "df.set_index('created_at', inplace=True)\n",
        "\n",
        "# Resample by 30-second intervals and count the number of tweets per interval\n",
        "tweets_per_30_seconds = df.resample('10min').size()\n",
        "\n",
        "# Plot the number of tweets per 30-second interval\n",
        "plt.figure(figsize=(12, 6))\n",
        "tweets_per_30_seconds.plot(kind='line', color='royalblue', lw=2)\n",
        "\n",
        "# Add titles and labels\n",
        "plt.title('Number of Tweets Per 30 Seconds', fontsize=16)\n",
        "plt.xlabel('Time', fontsize=14)\n",
        "plt.ylabel('Number of Tweets', fontsize=14)\n",
        "\n",
        "# Rotate the x-axis labels for better readability\n",
        "plt.xticks(rotation=45)\n",
        "\n",
        "# Display the plot\n",
        "plt.tight_layout()\n",
        "plt.show()"
      ],
      "metadata": {
        "id": "V1_CsQqk33pO"
      },
      "execution_count": null,
      "outputs": []
    },
    {
      "cell_type": "code",
      "source": [
        "hashtags = ['#sblix', '#sweepstakes', '#playforultra', '#onlylays', '#superbowllix',\n",
        "            '#superbowl', '#thisbudsforyou', '#nfl', '#doritoscrash', '#tombrady']\n",
        "counts = [22798, 15217, 11458, 8903, 5884, 4852, 4761, 4445, 4280, 2488]\n",
        "\n",
        "# Set up the style and figure\n",
        "sns.set_style(\"whitegrid\")\n",
        "plt.figure(figsize=(12, 7))\n",
        "\n",
        "# Create the bar plot with vibrant colors\n",
        "sns.barplot(x=counts, y=hashtags, palette=\"inferno\")\n",
        "\n",
        "# Customize the title and labels with bold and large fonts\n",
        "plt.title(\"Top 10 Super Bowl Hashtags\", fontsize=18, fontweight='bold', color='darkblue')\n",
        "plt.xlabel(\"Count of Mentions\", fontsize=14, fontweight='bold', color='darkblue')\n",
        "plt.ylabel(\"Hashtags\", fontsize=14, fontweight='bold', color='darkblue')\n",
        "\n",
        "# Add annotation for each bar to show the count on top\n",
        "for i, count in enumerate(counts):\n",
        "    plt.text(count + 50, i, str(count), va='center', fontsize=12, fontweight='bold', color='white')\n",
        "\n",
        "# Customize gridlines and axes\n",
        "plt.grid(axis='x', linestyle='--', alpha=0.7)\n",
        "plt.xticks(fontsize=12, color='darkgreen')\n",
        "plt.yticks(fontsize=12, color='darkgreen')\n",
        "\n",
        "# Display the plot\n",
        "plt.tight_layout()\n",
        "plt.show()"
      ],
      "metadata": {
        "id": "N0AhfyIcu0pd"
      },
      "execution_count": null,
      "outputs": []
    },
    {
      "cell_type": "code",
      "source": [
        "df['created_at'] = pd.to_datetime(df['created_at'], errors='coerce')\n",
        "\n",
        "# Extract hour for brand engagement timing\n",
        "df['tweet_hour'] = df['created_at'].dt.hour\n",
        "\n",
        "# Group by brand and count tweets\n",
        "brand_tweet_counts = df.groupby('brand').size().reset_index(name='tweet_count')\n",
        "\n",
        "# Sort brands by tweet count\n",
        "brand_tweet_counts = brand_tweet_counts.sort_values(by='tweet_count', ascending=False)\n",
        "\n",
        "# Plot bar chart\n",
        "plt.figure(figsize=(12,6))\n",
        "sns.barplot(data=brand_tweet_counts, x='brand', y='tweet_count', palette=\"viridis\")\n",
        "\n",
        "# Customize chart\n",
        "plt.xticks(rotation=45, ha=\"right\")\n",
        "plt.xlabel(\"Brand\")\n",
        "plt.ylabel(\"Tweet Count\")\n",
        "plt.title(\"Super Bowl Tweet Count by Brand\")\n",
        "plt.show()"
      ],
      "metadata": {
        "id": "Y-rKhDAsIYkp"
      },
      "execution_count": null,
      "outputs": []
    },
    {
      "cell_type": "code",
      "source": [
        "#plt.figure(figsize=(12,6))\n",
        "# sns.histplot(data=df, x='tweet_hour', hue='brand', multiple=\"stack\", bins=24, palette=\"tab10\")\n",
        "\n",
        "# Customize chart\n",
        "#plt.xlabel(\"Hour of the Day\")\n",
        "#plt.ylabel(\"Tweet Count\")\n",
        "#plt.title(\"Super Bowl Tweet Engagement by Hour & Brand\")\n",
        "#plt.legend(title=\"Brand\", bbox_to_anchor=(1,1))\n",
        "#plt.show()"
      ],
      "metadata": {
        "id": "5xhzizCeJOAq"
      },
      "execution_count": null,
      "outputs": []
    },
    {
      "cell_type": "code",
      "source": [
        "# Ensure 'created_at' is in datetime format\n",
        "df['created_at'] = pd.to_datetime(df['created_at'], errors='coerce', utc=True)\n",
        "\n",
        "# Calculate average created_at time per brand\n",
        "avg_created_at = df.groupby('brand')['created_at'].mean().dropna()\n",
        "\n",
        "# Calculate total engagement per brand\n",
        "total_engagement_per_brand = df.groupby('brand')['total_engagement'].sum()\n",
        "\n",
        "# Merge both calculations into a DataFrame\n",
        "brand_engagement_df = pd.DataFrame({'avg_created_at': avg_created_at, 'total_engagement': total_engagement_per_brand})\n",
        "\n",
        "# Sort values by created_at time for better visualization\n",
        "brand_engagement_df = brand_engagement_df.sort_values(by='avg_created_at')\n",
        "\n",
        "# Plot the scatter plot\n",
        "plt.figure(figsize=(12, 6))\n",
        "plt.scatter(brand_engagement_df['avg_created_at'], brand_engagement_df['total_engagement'], color='blue')\n",
        "\n",
        "# Annotate each point with the brand name\n",
        "for brand, row in brand_engagement_df.iterrows():\n",
        "    plt.text(row['avg_created_at'], row['total_engagement'], brand, fontsize=9, ha='right')\n",
        "\n",
        "# Formatting the chart\n",
        "plt.xlabel(\"Average Created At Time (UTC)\")\n",
        "plt.ylabel(\"Total Engagement\")\n",
        "plt.title(\"Total Engagement vs. Average Created Time per Brand\")\n",
        "plt.xticks(rotation=45)\n",
        "plt.grid(True)\n",
        "\n",
        "# Show the plot\n",
        "plt.show()"
      ],
      "metadata": {
        "id": "dsM7GQZ9VNNd"
      },
      "execution_count": null,
      "outputs": []
    },
    {
      "cell_type": "code",
      "source": [
        "df['created_at'] = pd.to_datetime(df['created_at'], errors='coerce').dt.tz_convert('UTC')\n",
        "\n",
        "# Display brand and corresponding tweet timestamps\n",
        "df_brand_times = df[['brand', 'created_at']].dropna().sort_values(by=['brand', 'created_at'])\n",
        "\n",
        "# Display the first few rows\n",
        "print(df_brand_times.head(20))  # Adjust the number of rows as needed"
      ],
      "metadata": {
        "id": "dtjTqxrLQOa0"
      },
      "execution_count": null,
      "outputs": []
    },
    {
      "cell_type": "code",
      "source": [
        "print(df_brand_times.tail(20))"
      ],
      "metadata": {
        "id": "ppHWNHI1QpLX"
      },
      "execution_count": null,
      "outputs": []
    },
    {
      "cell_type": "code",
      "source": [
        "# Ensure 'created_at' is in datetime format and UTC timezone\n",
        "df['created_at'] = pd.to_datetime(df['created_at'], errors='coerce').dt.tz_convert('UTC')\n",
        "\n",
        "# Sample dictionary mapping brands to their ad airing time (update with actual times)\n",
        "brand_ad_times = {\n",
        "    'BrandA': '2024-02-11 18:30:00',\n",
        "    'BrandB': '2024-02-11 18:45:00',\n",
        "    'BrandC': '2024-02-11 19:00:00',\n",
        "    'BrandD': '2024-02-11 19:15:00',\n",
        "    'BrandE': '2024-02-11 19:30:00',\n",
        "}\n",
        "\n",
        "# Convert ad times to datetime and set to UTC timezone\n",
        "brand_ad_times = {k: pd.to_datetime(v).tz_localize('UTC') for k, v in brand_ad_times.items()}\n",
        "\n",
        "# Set time window for filtering (e.g., 10 minutes before & after the ad)\n",
        "time_window = pd.Timedelta(minutes=10)\n",
        "\n",
        "df_filtered = pd.DataFrame()\n",
        "for brand, ad_time in brand_ad_times.items():\n",
        "    temp_df = df[(df['brand'] == brand) &\n",
        "                 (df['created_at'] >= ad_time - time_window) &\n",
        "                 (df['created_at'] <= ad_time + time_window)]\n",
        "    df_filtered = pd.concat([df_filtered, temp_df])\n",
        "\n",
        "# Plot scatter plot\n",
        "plt.figure(figsize=(12,6))\n",
        "sns.scatterplot(data=df_filtered, x='created_at', y='total_engagement', hue='brand', style='brand', s=100, palette=\"tab10\")\n",
        "\n",
        "# Customize chart\n",
        "plt.xlabel(\"Time (Ad Aired)\")\n",
        "plt.ylabel(\"Total Engagement\")\n",
        "plt.title(\"Super Bowl Ad Engagement Over Time\")\n",
        "plt.xticks(rotation=45)\n",
        "plt.legend(title=\"Brand\", bbox_to_anchor=(1,1))\n",
        "plt.grid(True)\n",
        "\n",
        "# Show plot\n",
        "plt.show()"
      ],
      "metadata": {
        "id": "ramRTSEDOiMS"
      },
      "execution_count": null,
      "outputs": []
    },
    {
      "cell_type": "code",
      "source": [
        "positive_words = ['great', 'awesome', 'amazing', 'love', 'excellent','dominating', 'fantastic','MVP','shout out','wonderful','clutch', 'best','better', 'good', 'like', 'enjoy', 'happy', 'positive', 'greatest', 'incredible','nice','nicer', 'favorite', 'excellent', 'superb', 'outstanding', 'remarkable', 'fabulous', 'delightful', 'pleasurable','enjoyed', 'satisfied', 'pleased', 'thrilled', 'joyful', 'cheerful', 'content', 'ecstatic', 'elated', 'exhilarated','amused','entertained','funny','fun','hilarious','delighted','grateful','thankful','appreciative','optimistic','hopeful']\n",
        "\n",
        "negative_words = ['awful', 'terrible','boycott','weird','boycotted','bad','trash','garbage','satan','do better','forbade','worst', 'hate','quit','poor','dumb','never', 'horrible','disappointing', 'sad', 'angry', 'negative', 'unpleasant', 'dreadful', 'atrocious', 'abysmal', 'appalling', 'deplorable', 'distressing', 'unfortunate','sucked', 'sucks', 'disgusting', 'unhappy','lame', 'regret', 'regrettable', 'unfavorable', 'undesirable', 'unwelcome']\n",
        "\n",
        "# Function to clean text\n",
        "def clean_text(text):\n",
        "    text = str(text).lower()  # Convert to lowercase\n",
        "    text = re.sub(r'http\\S+', '', text)  # Remove URLs\n",
        "    text = re.sub(r'[^a-z\\s]', '', text)  # Remove special characters\n",
        "    return text\n",
        "\n",
        "df['clean_text'] = df['text'].apply(clean_text)"
      ],
      "metadata": {
        "id": "1YVfxwQwbOn9"
      },
      "execution_count": null,
      "outputs": []
    },
    {
      "cell_type": "code",
      "source": [
        "def classify_sentiment(text):\n",
        "    words = text.split()\n",
        "    pos_count = sum(1 for word in words if word in positive_words)\n",
        "    neg_count = sum(1 for word in words if word in negative_words)\n",
        "\n",
        "    if pos_count > neg_count:\n",
        "        return 'Positive'\n",
        "    elif neg_count > pos_count:\n",
        "        return 'Negative'\n",
        "    else:\n",
        "        return 'Neutral'\n",
        "\n",
        "df['sentiment'] = df['clean_text'].apply(classify_sentiment)"
      ],
      "metadata": {
        "id": "468i_CykbdSY"
      },
      "execution_count": null,
      "outputs": []
    },
    {
      "cell_type": "code",
      "source": [
        "# Define engagement as sum of retweets, replies, likes, and quotes\n",
        "df['engagement'] = df['public_metrics.retweet_count'] + df['public_metrics.reply_count'] + df['public_metrics.like_count'] + df['public_metrics.quote_count']\n",
        "\n",
        "# Get top 5 brands by engagement\n",
        "top_brands = df.groupby('brand')['engagement'].sum().nlargest(5).index.tolist()\n",
        "\n",
        "# Filter dataset for top 5 brands\n",
        "df_top_brands = df[df['brand'].isin(top_brands)]"
      ],
      "metadata": {
        "id": "xTAHCcIvbejK"
      },
      "execution_count": null,
      "outputs": []
    },
    {
      "cell_type": "code",
      "source": [
        "# Count sentiment per brand\n",
        "brand_sentiment = df_top_brands.groupby(['brand', 'sentiment']).size().unstack(fill_value=0)\n",
        "\n",
        "# Normalize for percentage\n",
        "brand_sentiment_percentage = brand_sentiment.div(brand_sentiment.sum(axis=1), axis=0) * 100\n",
        "\n",
        "# Plot Sentiment Distribution\n",
        "brand_sentiment_percentage.plot(kind='bar', stacked=True, figsize=(10,6), colormap='coolwarm')\n",
        "\n",
        "plt.title(\"Sentiment Breakdown for Top 5 Engaged Brands\")\n",
        "plt.ylabel(\"Percentage of Tweets\")\n",
        "plt.xlabel(\"Brand\")\n",
        "plt.legend(title=\"Sentiment\")\n",
        "plt.show()"
      ],
      "metadata": {
        "id": "YgzdMWpDbkmp"
      },
      "execution_count": null,
      "outputs": []
    },
    {
      "cell_type": "code",
      "source": [
        "df.head()"
      ],
      "metadata": {
        "id": "Ju1QGNRZ2GV1"
      },
      "execution_count": null,
      "outputs": []
    },
    {
      "cell_type": "code",
      "source": [
        "df.tail()"
      ],
      "metadata": {
        "id": "8vUb4aN5wlnz"
      },
      "execution_count": null,
      "outputs": []
    },
    {
      "cell_type": "code",
      "source": [
        "df['created_at'] = pd.to_datetime(df['created_at'], errors='coerce').dt.tz_convert('UTC')\n",
        "\n",
        "# Display brand and corresponding tweet timestamps\n",
        "df_brand_times = df[['brand', 'created_at']].dropna().sort_values(by=['brand', 'created_at'])\n",
        "\n",
        "# Display the first few rows\n",
        "print(df_brand_times.head(20))  # Adjust the number of rows as needed"
      ],
      "metadata": {
        "id": "WPfehq6dR9tP"
      },
      "execution_count": null,
      "outputs": []
    },
    {
      "cell_type": "code",
      "source": [
        "df.describe()"
      ],
      "metadata": {
        "id": "A56Pbc53Fys_"
      },
      "execution_count": null,
      "outputs": []
    },
    {
      "cell_type": "code",
      "source": [
        "df.info()"
      ],
      "metadata": {
        "id": "tQs2HrTIF3T-"
      },
      "execution_count": null,
      "outputs": []
    },
    {
      "cell_type": "code",
      "source": [
        "# Convert 'created_at' to datetime\n",
        "df['created_at'] = pd.to_datetime(df['created_at'], errors='coerce')\n"
      ],
      "metadata": {
        "id": "UmOZNqowI1wp"
      },
      "execution_count": null,
      "outputs": []
    },
    {
      "cell_type": "code",
      "source": [
        "# Define Super Bowl Game Phases (Example Time Intervals - Adjust as needed)\n",
        "first_quarter_start = \"2024-02-11 02:30:00\"  # Example start time\n",
        "second_quarter_start = \"2024-02-11 02:45:00\"\n",
        "halftime_start = \"2024-02-11 03:00:00\"\n",
        "third_quarter_start = \"2024-02-11 03:15:00\"\n",
        "fourth_quarter_start = \"2024-02-11 03:30:00\"\n",
        "game_end = \"2024-02-11 03:45:00\"\n",
        "\n",
        "# Assign engagement phases based on tweet timestamps\n",
        "conditions = [\n",
        "    (df['created_at'] >= first_quarter_start) & (df['created_at'] < second_quarter_start),\n",
        "    (df['created_at'] >= second_quarter_start) & (df['created_at'] < halftime_start),\n",
        "    (df['created_at'] >= halftime_start) & (df['created_at'] < third_quarter_start),\n",
        "    (df['created_at'] >= third_quarter_start) & (df['created_at'] < fourth_quarter_start),\n",
        "    (df['created_at'] >= fourth_quarter_start) & (df['created_at'] <= game_end)\n",
        "]\n",
        "choices = [\"First Quarter\", \"Second Quarter\", \"Halftime\", \"Third Quarter\", \"Fourth Quarter\"]\n",
        "df['game_phase'] = np.select(conditions, choices, default=\"Pre/Post Game\")  # Assign phases\n",
        "\n",
        "# Calculate total engagement per phase\n",
        "df['total_engagement'] = (\n",
        "    df['public_metrics.retweet_count'] +\n",
        "    df['public_metrics.reply_count'] +\n",
        "    df['public_metrics.like_count'] +\n",
        "    df['public_metrics.quote_count'] +\n",
        "    df['public_metrics.bookmark_count']\n",
        ")\n",
        "\n",
        "engagement_by_phase = df.groupby('game_phase')[[\n",
        "    'public_metrics.retweet_count',\n",
        "    'public_metrics.reply_count',\n",
        "    'public_metrics.like_count',\n",
        "    'public_metrics.quote_count',\n",
        "    'public_metrics.bookmark_count'\n",
        "]].sum().reset_index()\n",
        "\n",
        "# 📊 **Plot Engagement per Metric by Super Bowl Phase**\n",
        "plt.figure(figsize=(12, 6))\n",
        "engagement_by_phase.set_index('game_phase').plot(kind='bar', stacked=True, colormap='viridis', alpha=0.85)\n",
        "plt.xlabel(\"Game Phase\")\n",
        "plt.ylabel(\"Total Engagement\")\n",
        "plt.title(\"Total Engagement by Metric During Super Bowl Game Phases\")\n",
        "plt.xticks(rotation=30)\n",
        "plt.legend(title=\"Engagement Type\")\n",
        "plt.grid(axis='y', linestyle='--', alpha=0.7)\n",
        "plt.show()"
      ],
      "metadata": {
        "id": "3FmDkhGzI5Uh"
      },
      "execution_count": null,
      "outputs": []
    },
    {
      "cell_type": "code",
      "source": [
        "public_metrics_columns = [col for col in df.columns if 'public_metrics' in col]\n",
        "\n",
        "# Select only the public_metrics columns and compute the correlation matrix\n",
        "corr_matrix = df[public_metrics_columns].corr()\n",
        "\n",
        "# Create the heatmap for the correlation matrix\n",
        "plt.figure(figsize=(10, 6))\n",
        "sns.heatmap(corr_matrix, annot=True, cmap=\"coolwarm\", fmt=\".2f\", linewidths=0.5)\n",
        "plt.title(\"Correlation Matrix of Public Metrics\")\n",
        "plt.show()"
      ],
      "metadata": {
        "id": "HPsVlJlrxywK"
      },
      "execution_count": null,
      "outputs": []
    },
    {
      "cell_type": "code",
      "source": [
        "corr_matrix = df.select_dtypes(include=['number']).corr()\n",
        "\n",
        "# Create heatmap\n",
        "plt.figure(figsize=(10, 6))\n",
        "sns.heatmap(corr_matrix, annot=True, cmap=\"coolwarm\", fmt=\".2f\", linewidths=0.5)\n",
        "plt.title(\"Correlation Matrix of Public Metrics\")\n",
        "plt.show()"
      ],
      "metadata": {
        "id": "dbhqNnwfJGpH"
      },
      "execution_count": null,
      "outputs": []
    },
    {
      "cell_type": "markdown",
      "source": [
        "Tweets over time: amount of tweets over time y-axis / x-axis ad  "
      ],
      "metadata": {
        "id": "LnFlQ9hkGPFT"
      }
    }
  ]
}